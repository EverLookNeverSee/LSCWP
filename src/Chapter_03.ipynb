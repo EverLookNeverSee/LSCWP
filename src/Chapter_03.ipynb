{
 "cells": [
  {
   "cell_type": "markdown",
   "metadata": {
    "collapsed": true,
    "pycharm": {
     "is_executing": false,
     "name": "#%% md\n"
    }
   },
   "source": [
    "## Sparse Matrices and Graphs"
   ]
  },
  {
   "cell_type": "code",
   "execution_count": 27,
   "outputs": [],
   "source": [
    "# importing modules\n",
    "\n",
    "import scipy.sparse as sp\n",
    "import scipy.sparse.linalg\n",
    "import numpy as np\n",
    "import matplotlib.pyplot as plt\n",
    "import networkx as nx"
   ],
   "metadata": {
    "collapsed": false,
    "pycharm": {
     "name": "#%%\n",
     "is_executing": false
    }
   }
  },
  {
   "cell_type": "markdown",
   "source": [
    "### Scipy.coo_matrix:\n",
    "\n",
    "for example:\n",
    "\n",
    "$$A =  \\begin{bmatrix}0 & 1 & 0 & 0 \\\\0 & 0& 0& 2 \\\\0 & 0 & 3 & 0 \\\\4 & 0 & 0 & 0 \\end{bmatrix} $$"
   ],
   "metadata": {
    "collapsed": false,
    "pycharm": {
     "name": "#%% md\n"
    }
   }
  },
  {
   "cell_type": "code",
   "execution_count": 28,
   "outputs": [
    {
     "data": {
      "text/plain": "<4x4 sparse matrix of type '<class 'numpy.int64'>'\n\twith 4 stored elements in COOrdinate format>"
     },
     "metadata": {},
     "output_type": "execute_result",
     "execution_count": 28
    }
   ],
   "source": [
    "# Example_01\n",
    "\n",
    "values = [1, 2, 3, 4]\n",
    "rows = [0, 1, 2, 3]\n",
    "cols = [1, 3, 2, 0]\n",
    "\n",
    "A = sp.coo_matrix((values, (rows, cols)), shape=[4, 4])\n",
    "A"
   ],
   "metadata": {
    "collapsed": false,
    "pycharm": {
     "name": "#%%\n",
     "is_executing": false
    }
   }
  },
  {
   "cell_type": "code",
   "execution_count": 29,
   "outputs": [
    {
     "name": "stdout",
     "text": [
      "A.shape: (4, 4)\n",
      "A.size: 4\n",
      "A.dtype: int64\n",
      "A.ndim: 2\n"
     ],
     "output_type": "stream"
    }
   ],
   "source": [
    "# Example_02\n",
    "\n",
    "print(f\"A.shape: {A.shape}\")\n",
    "print(f\"A.size: {A.size}\")\n",
    "print(f\"A.dtype: {A.dtype}\")\n",
    "print(f\"A.ndim: {A.ndim}\")"
   ],
   "metadata": {
    "collapsed": false,
    "pycharm": {
     "name": "#%%\n",
     "is_executing": false
    }
   }
  },
  {
   "cell_type": "code",
   "execution_count": 30,
   "outputs": [
    {
     "name": "stdout",
     "text": [
      "A.row: [0 1 2 3]\n",
      "A.col: [1 3 2 0]\n"
     ],
     "output_type": "stream"
    }
   ],
   "source": [
    "# Example_03\n",
    "\n",
    "print(f\"A.row: {A.row}\")\n",
    "print(f\"A.col: {A.col}\")"
   ],
   "metadata": {
    "collapsed": false,
    "pycharm": {
     "name": "#%%\n",
     "is_executing": false
    }
   }
  },
  {
   "cell_type": "code",
   "execution_count": 31,
   "outputs": [
    {
     "data": {
      "text/plain": "<4x4 sparse matrix of type '<class 'numpy.int64'>'\n\twith 4 stored elements in Compressed Sparse Row format>"
     },
     "metadata": {},
     "output_type": "execute_result",
     "execution_count": 31
    }
   ],
   "source": [
    "# Example_04\n",
    "# converting the sparse matrix A from COO format to CSR format:\n",
    "\n",
    "A.tocsr()"
   ],
   "metadata": {
    "collapsed": false,
    "pycharm": {
     "name": "#%%\n",
     "is_executing": false
    }
   }
  },
  {
   "cell_type": "code",
   "execution_count": 32,
   "outputs": [
    {
     "data": {
      "text/plain": "array([[0, 1, 0, 0],\n       [0, 0, 0, 2],\n       [0, 0, 3, 0],\n       [4, 0, 0, 0]])"
     },
     "metadata": {},
     "output_type": "execute_result",
     "execution_count": 32
    }
   ],
   "source": [
    "# Example_05\n",
    "# converting the sparse matrix A from COO to a numpy array:\n",
    "\n",
    "A.toarray()"
   ],
   "metadata": {
    "collapsed": false,
    "pycharm": {
     "name": "#%%\n",
     "is_executing": false
    }
   }
  },
  {
   "cell_type": "code",
   "execution_count": 33,
   "outputs": [
    {
     "name": "stdout",
     "text": [
      "A.data: [1 2 3 4 5 6 7 8 9]\n",
      "A.indices: [0 1 1 2 2 3 0 2 3]\n",
      "A.indptr: [0 2 4 6 9]\n"
     ],
     "output_type": "stream"
    }
   ],
   "source": [
    "# Example_06\n",
    "\n",
    "# creating a dense numpy array:\n",
    "A = np.array([\n",
    "    [1, 2, 0, 0],\n",
    "    [0, 3, 4, 0],\n",
    "    [0, 0, 5, 6],\n",
    "    [7, 0, 8, 9]\n",
    "])\n",
    "\n",
    "# converting to csr matrix:\n",
    "A = sp.csr_matrix(A)\n",
    "\n",
    "# Some related attributes\n",
    "print(f\"A.data: {A.data}\")\n",
    "print(f\"A.indices: {A.indices}\")\n",
    "print(f\"A.indptr: {A.indptr}\")"
   ],
   "metadata": {
    "collapsed": false,
    "pycharm": {
     "name": "#%%\n",
     "is_executing": false
    }
   }
  },
  {
   "cell_type": "code",
   "execution_count": 34,
   "outputs": [
    {
     "name": "stdout",
     "text": [
      "A.indptr[2], A.indptr[3] - 1: (4, 5)\n",
      "A.indices[A.indptr[i]:A.indptr[i+1]]: [2 3]\n",
      "A.data[A.indptr[i]:A.indptr[i+1]]: [5 6]\n"
     ],
     "output_type": "stream"
    },
    {
     "data": {
      "text/plain": "(5, 6)"
     },
     "metadata": {},
     "output_type": "execute_result",
     "execution_count": 34
    }
   ],
   "source": [
    "# Example_07\n",
    "\n",
    "i = 2\n",
    "print(f\"A.indptr[{i}], A.indptr[{i + 1}] - 1: {A.indptr[i], A.indptr[i+1] - 1}\")\n",
    "print(f\"A.indices[A.indptr[i]:A.indptr[i+1]]: {A.indices[A.indptr[i]:A.indptr[i+1]]}\")\n",
    "print(f\"A.data[A.indptr[i]:A.indptr[i+1]]: {A.data[A.indptr[i]:A.indptr[i+1]]}\")\n",
    "A[2, 2], A[2, 3]    # checking"
   ],
   "metadata": {
    "collapsed": false,
    "pycharm": {
     "name": "#%%\n",
     "is_executing": false
    }
   }
  },
  {
   "cell_type": "markdown",
   "source": [
    "### Functions for creating sparse matrices:"
   ],
   "metadata": {
    "collapsed": false,
    "pycharm": {
     "name": "#%% md\n"
    }
   }
  },
  {
   "cell_type": "code",
   "execution_count": 35,
   "outputs": [
    {
     "data": {
      "text/plain": "<10x10 sparse matrix of type '<class 'numpy.float64'>'\n\twith 28 stored elements in Compressed Sparse Row format>"
     },
     "metadata": {},
     "output_type": "execute_result",
     "execution_count": 35
    }
   ],
   "source": [
    "# Example_08\n",
    "# creating a sparse matrix of size 10 by 10\n",
    "# with a main diagonal and an upper and lower diagonal\n",
    "\n",
    "N = 10\n",
    "A = sp.eye(N, k=1) - 2 * sp.eye(N) + sp.eye(N, k=-1)\n",
    "A"
   ],
   "metadata": {
    "collapsed": false,
    "pycharm": {
     "name": "#%%\n",
     "is_executing": false
    }
   }
  },
  {
   "cell_type": "code",
   "execution_count": 36,
   "outputs": [
    {
     "data": {
      "text/plain": "<10x10 sparse matrix of type '<class 'numpy.float64'>'\n\twith 28 stored elements in Compressed Sparse Column format>"
     },
     "metadata": {},
     "output_type": "execute_result",
     "execution_count": 36
    }
   ],
   "source": [
    "# Example_09\n",
    "# creating a sparse matrix of size 10 by 10\n",
    "# using sp.diags()\n",
    "\n",
    "A = sp.diags([1, -2, 1], [1, 0, -1], shape=[N, N], format=\"csc\")\n",
    "A"
   ],
   "metadata": {
    "collapsed": false,
    "pycharm": {
     "name": "#%%\n",
     "is_executing": false
    }
   }
  },
  {
   "cell_type": "code",
   "execution_count": 37,
   "outputs": [
    {
     "data": {
      "text/plain": "<matplotlib.lines.Line2D at 0x7f5bf7194c10>"
     },
     "metadata": {},
     "output_type": "execute_result",
     "execution_count": 37
    },
    {
     "data": {
      "text/plain": "<Figure size 432x288 with 1 Axes>",
      "image/png": "[encoded data removed]"
     },
     "metadata": {
      "needs_background": "light"
     },
     "output_type": "display_data"
    }
   ],
   "source": [
    "# Example_10\n",
    "# visualizing sparse matrix using matplotlib\n",
    "\n",
    "fig, ax = plt.subplots()\n",
    "ax.spy(A)"
   ],
   "metadata": {
    "collapsed": false,
    "pycharm": {
     "name": "#%%\n",
     "is_executing": false
    }
   }
  },
  {
   "cell_type": "markdown",
   "source": [
    "Creating a sparse matrix for a tensor product between A and the matrix\n",
    "\n",
    "$$B =  \\begin{bmatrix}0 & 1 & 0 \\\\1 & 0& 1 \\\\0 & 1 & 0 \\\\\\end{bmatrix}$$"
   ],
   "metadata": {
    "collapsed": false,
    "pycharm": {
     "name": "#%% md\n"
    }
   }
  },
  {
   "cell_type": "code",
   "execution_count": 38,
   "outputs": [
    {
     "data": {
      "text/plain": "<matplotlib.lines.Line2D at 0x7f5bf71e91c0>"
     },
     "metadata": {},
     "output_type": "execute_result",
     "execution_count": 38
    },
    {
     "data": {
      "text/plain": "<Figure size 864x288 with 3 Axes>",
      "image/png": "[encoded data removed]"
     },
     "metadata": {
      "needs_background": "light"
     },
     "output_type": "display_data"
    }
   ],
   "source": [
    "# Example_11\n",
    "\n",
    "B = sp.diags([1, 1], [-1, 1], shape=[3, 3])\n",
    "C = sp.kron(A, B)\n",
    "fig, (ax_A, ax_B, ax_C) = plt.subplots(1, 3, figsize=(12, 4))\n",
    "ax_A.spy(A)\n",
    "ax_B.spy(B)\n",
    "ax_C.spy(C)"
   ],
   "metadata": {
    "collapsed": false,
    "pycharm": {
     "name": "#%%\n",
     "is_executing": false
    }
   }
  },
  {
   "cell_type": "markdown",
   "source": [
    "### Sparse Linear Algebra Functions\n",
    "#### Linear equation systems:"
   ],
   "metadata": {
    "collapsed": false,
    "pycharm": {
     "name": "#%% md\n"
    }
   }
  },
  {
   "cell_type": "code",
   "execution_count": 39,
   "outputs": [
    {
     "name": "stdout",
     "text": [
      "x: [ 5.  9. 12. 14. 15. 15. 14. 12.  9.  5.]\n"
     ],
     "output_type": "stream"
    }
   ],
   "source": [
    "# Example_12\n",
    "# A is the tridiagonal matrix\n",
    "# b is a dense vector filled with negative ones\n",
    "\n",
    "N = 10\n",
    "A = sp.diags([1, -2, 1], [1, 0, -1], shape=[N, N], format='csc')\n",
    "b = -np.ones(N)\n",
    "\n",
    "x = sp.linalg.spsolve(A, b)\n",
    "print(f\"x: {x}\")"
   ],
   "metadata": {
    "collapsed": false,
    "pycharm": {
     "name": "#%%\n",
     "is_executing": false
    }
   }
  },
  {
   "cell_type": "code",
   "execution_count": 40,
   "outputs": [
    {
     "data": {
      "text/plain": "array([ 5.,  9., 12., 14., 15., 15., 14., 12.,  9.,  5.])"
     },
     "metadata": {},
     "output_type": "execute_result",
     "execution_count": 40
    }
   ],
   "source": [
    "# Example_13\n",
    "# Solving problem above using dense direct solver\n",
    "scipy.linalg.solve(A.todense(), b)"
   ],
   "metadata": {
    "collapsed": false,
    "pycharm": {
     "name": "#%%\n",
     "is_executing": false
    }
   }
  },
  {
   "cell_type": "code",
   "execution_count": 41,
   "outputs": [
    {
     "name": "stdout",
     "text": [
      "lu.L: <bound method spmatrix.__repr__ of <10x10 sparse matrix of type '<class 'numpy.float64'>'\n",
      "\twith 20 stored elements in Compressed Sparse Column format>>\n",
      "\n",
      "lu.U: <bound method spmatrix.__repr__ of <10x10 sparse matrix of type '<class 'numpy.float64'>'\n",
      "\twith 20 stored elements in Compressed Sparse Column format>>\n"
     ],
     "output_type": "stream"
    }
   ],
   "source": [
    "# Example_14\n",
    "# Explicitly compute the LU factorization\n",
    "# LU factorization of matrix A:\n",
    "\n",
    "lu = sp.linalg.splu(A)\n",
    "print(f\"lu.L: {lu.L.__repr__}\\n\")\n",
    "print(f\"lu.U: {lu.U.__repr__}\")"
   ],
   "metadata": {
    "collapsed": false,
    "pycharm": {
     "name": "#%%\n",
     "is_executing": false
    }
   }
  },
  {
   "cell_type": "markdown",
   "source": [
    "Once the LU factorization is available, we can efficiently solve the\n",
    "equation $LUx = b$ using the $solve$ method for the lu object:"
   ],
   "metadata": {
    "collapsed": false,
    "pycharm": {
     "name": "#%% md\n"
    }
   }
  },
  {
   "cell_type": "code",
   "execution_count": 42,
   "outputs": [
    {
     "data": {
      "text/plain": "array([ 5.,  9., 12., 14., 15., 15., 14., 12.,  9.,  5.])"
     },
     "metadata": {},
     "output_type": "execute_result",
     "execution_count": 42
    }
   ],
   "source": [
    "# Example_15\n",
    "x = lu.solve(b)\n",
    "x"
   ],
   "metadata": {
    "collapsed": false,
    "pycharm": {
     "name": "#%%\n",
     "is_executing": false
    }
   }
  },
  {
   "cell_type": "code",
   "execution_count": 43,
   "outputs": [],
   "source": [
    "def sp_permute(A, perm_r, perm_c):\n",
    "    \"\"\" Permute rows and columns of A \"\"\"\n",
    "    M, N = A.shape\n",
    "    # row permutation matrix\n",
    "    Pr = sp.coo_matrix((np.ones(M), (perm_r, np.arange(N)))).tocsr()\n",
    "    # column permutation matrix\n",
    "    Pc = sp.coo_matrix((np.ones(M), (np.arange(M), perm_c))).tocsr()\n",
    "    return Pr.T * A * Pc.T"
   ],
   "metadata": {
    "collapsed": false,
    "pycharm": {
     "name": "#%%\n",
     "is_executing": false
    }
   }
  },
  {
   "cell_type": "code",
   "execution_count": 44,
   "outputs": [
    {
     "data": {
      "text/plain": "<10x10 sparse matrix of type '<class 'numpy.float64'>'\n\twith 28 stored elements in Compressed Sparse Column format>"
     },
     "metadata": {},
     "output_type": "execute_result",
     "execution_count": 44
    }
   ],
   "source": [
    "# Example_16\n",
    "\n",
    "lu.L * lu.U     # != 0"
   ],
   "metadata": {
    "collapsed": false,
    "pycharm": {
     "name": "#%%\n",
     "is_executing": false
    }
   }
  },
  {
   "cell_type": "code",
   "execution_count": 45,
   "outputs": [
    {
     "data": {
      "text/plain": "<10x10 sparse matrix of type '<class 'numpy.float64'>'\n\twith 0 stored elements in Compressed Sparse Column format>"
     },
     "metadata": {},
     "output_type": "execute_result",
     "execution_count": 45
    }
   ],
   "source": [
    "# Example_17\n",
    "sp_permute(lu.L * lu.U, lu.perm_r, lu.perm_c) - A     # == 0"
   ],
   "metadata": {
    "collapsed": false,
    "pycharm": {
     "name": "#%%\n",
     "is_executing": false
    }
   }
  },
  {
   "cell_type": "markdown",
   "source": [
    "##### Iterative methods:"
   ],
   "metadata": {
    "collapsed": false,
    "pycharm": {
     "name": "#%% md\n",
     "is_executing": false
    }
   }
  },
  {
   "cell_type": "code",
   "execution_count": 46,
   "outputs": [
    {
     "name": "stdout",
     "text": [
      "x using bicgstab(): [ 5.  9. 12. 14. 15. 15. 14. 12.  9.  5.]\n",
      "x using lgmres(): [ 5.  9. 12. 14. 15. 15. 14. 12.  9.  5.]\n"
     ],
     "output_type": "stream"
    },
    {
     "name": "stderr",
     "text": [
      "<ipython-input-46-a9834cd86a3f>:6: DeprecationWarning: scipy.sparse.linalg.lgmres called without specifying `atol`. The default value will change in the future. To preserve current behavior, set ``atol=tol``.\n",
      "  x, info = sp.linalg.lgmres(A, b)\n"
     ],
     "output_type": "stream"
    }
   ],
   "source": [
    "# Example_18\n",
    "\n",
    "x, info = sp.linalg.bicgstab(A, b)\n",
    "print(f\"x using bicgstab(): {x}\")\n",
    "\n",
    "x, info = sp.linalg.lgmres(A, b)\n",
    "print(f\"x using lgmres(): {x}\")"
   ],
   "metadata": {
    "collapsed": false,
    "pycharm": {
     "name": "#%%\n",
     "is_executing": false
    }
   }
  },
  {
   "cell_type": "markdown",
   "source": [
    "#### Eigenvalue Problems:"
   ],
   "metadata": {
    "collapsed": false,
    "pycharm": {
     "name": "#%% md\n"
    }
   }
  },
  {
   "cell_type": "code",
   "execution_count": 47,
   "outputs": [
    {
     "name": "stdout",
     "text": [
      "evals: [-3.91898595+0.j -3.68250707+0.j -3.30972147+0.j -2.83083003+0.j]\n"
     ],
     "output_type": "stream"
    }
   ],
   "source": [
    "# Example_19\n",
    "# Computing the lowest four eigenvalues for the sparse matrix of\n",
    "# the one-dimensional poisson problem(of system size 10x10):\n",
    "\n",
    "N = 10\n",
    "A = sp.diags([1, -2, 1], [1, 0, -1], shape=[N, N], format='csc')\n",
    "evals, evecs = sp.linalg.eigs(A, k=4, which='LM')\n",
    "print(f\"evals: {evals}\")"
   ],
   "metadata": {
    "collapsed": false,
    "pycharm": {
     "name": "#%%\n",
     "is_executing": false
    }
   }
  },
  {
   "cell_type": "code",
   "execution_count": 48,
   "outputs": [
    {
     "data": {
      "text/plain": "True"
     },
     "metadata": {},
     "output_type": "execute_result",
     "execution_count": 48
    }
   ],
   "source": [
    "# Example_20\n",
    "np.allclose(A.dot(evecs[:, 0]), evals[0] * evecs[:, 0])"
   ],
   "metadata": {
    "collapsed": false,
    "pycharm": {
     "name": "#%%\n",
     "is_executing": false
    }
   }
  },
  {
   "cell_type": "code",
   "execution_count": 49,
   "outputs": [
    {
     "data": {
      "text/plain": "array([-3.91898595, -3.68250707, -3.30972147, -2.83083003])"
     },
     "metadata": {},
     "output_type": "execute_result",
     "execution_count": 49
    }
   ],
   "source": [
    "# Example_21\n",
    "# Largest magnitude\n",
    "evals, evecs = sp.linalg.eigsh(A, k=4, which=\"LM\")\n",
    "evals"
   ],
   "metadata": {
    "collapsed": false,
    "pycharm": {
     "name": "#%%\n",
     "is_executing": false
    }
   }
  },
  {
   "cell_type": "code",
   "execution_count": 50,
   "outputs": [
    {
     "name": "stdout",
     "text": [
      "evals: [-1.16916997 -0.69027853 -0.31749293 -0.08101405]\n"
     ],
     "output_type": "stream"
    },
    {
     "data": {
      "text/plain": "array([0, 1, 2, 3])"
     },
     "metadata": {},
     "output_type": "execute_result",
     "execution_count": 50
    }
   ],
   "source": [
    "# Example_22\n",
    "# Smallest magnitude\n",
    "evals, evecs = sp.linalg.eigsh(A, k=4, which=\"SM\")\n",
    "print(f\"evals: {evals}\")\n",
    "\n",
    "np.real(evals).argsort()"
   ],
   "metadata": {
    "collapsed": false,
    "pycharm": {
     "name": "#%%\n",
     "is_executing": false
    }
   }
  },
  {
   "cell_type": "code",
   "execution_count": 53,
   "outputs": [
    {
     "data": {
      "text/plain": "array([-1.16916997+0.j, -0.69027853+0.j, -0.31749293+0.j, -0.08101405+0.j])"
     },
     "metadata": {},
     "output_type": "execute_result",
     "execution_count": 53
    }
   ],
   "source": [
    "# Example_23\n",
    "# Defining a function which returns the eigenvalues and eigenvectors\n",
    "# stored by the real part of the eigenvalue:\n",
    "\n",
    "def sp_eigs_sorted(A, k=6, which=\"SR\"):\n",
    "    \"\"\" Compute and return eigenvalues stored by the real part \"\"\"\n",
    "    evals, evecs = sp.linalg.eigs(A, k=k, which=which)\n",
    "    idx = np.real(evals).argsort()\n",
    "    return evals[idx], evecs[idx]\n",
    "\n",
    "# testing\n",
    "evals, evecs = sp_eigs_sorted(A, k=4, which=\"SM\")\n",
    "evals"
   ],
   "metadata": {
    "collapsed": false,
    "pycharm": {
     "name": "#%%\n",
     "is_executing": false
    }
   }
  },
  {
   "cell_type": "code",
   "execution_count": 56,
   "outputs": [
    {
     "data": {
      "text/plain": "Text(0, 0.5, 'eig.vals. of $(1-x)M_1+xM_2$')"
     },
     "metadata": {},
     "output_type": "execute_result",
     "execution_count": 56
    },
    {
     "data": {
      "text/plain": "<Figure size 576x288 with 1 Axes>",
      "image/png": "[encoded data removed]"
     },
     "metadata": {
      "needs_background": "light"
     },
     "output_type": "display_data"
    }
   ],
   "source": [
    "# Example_24\n",
    "# The spectrum of the lowest 25 eigenvalues of the sparse matrix\n",
    "# (1 - x)M1 + xM2 as a function of x , where M1, M2 are two random matrices\n",
    "\n",
    "N = 100\n",
    "x_vec = np.linspace(0, 1, 50)\n",
    "\n",
    "M1 = sp.rand(N, N, density=0.2)\n",
    "M2 = sp.rand(N, N, density=0.2)\n",
    "\n",
    "evals_mat = np.array([sp_eigs_sorted((1-x)*M1 + x*M2, k=25)[0] for x in x_vec])\n",
    "\n",
    "fig, ax = plt.subplots(figsize=(8, 4))\n",
    "for idx in range(evals_mat.shape[1]):\n",
    "    ax.plot(x_vec, np.real(evals_mat[:,idx]), lw=0.5)\n",
    "ax.set_xlabel(r\"$x$\", fontsize=16)\n",
    "ax.set_ylabel(r\"eig.vals. of $(1-x)M_1+xM_2$\", fontsize=16)"
   ],
   "metadata": {
    "collapsed": false,
    "pycharm": {
     "name": "#%%\n",
     "is_executing": false
    }
   }
  },
  {
   "cell_type": "markdown",
   "source": [
    "### Graphs and Networks"
   ],
   "metadata": {
    "collapsed": false,
    "pycharm": {
     "name": "#%% md\n"
    }
   }
  },
  {
   "cell_type": "code",
   "execution_count": 58,
   "outputs": [],
   "source": [
    "import networkx as nx"
   ],
   "metadata": {
    "collapsed": false,
    "pycharm": {
     "name": "#%%\n",
     "is_executing": false
    }
   }
  },
  {
   "cell_type": "markdown",
   "source": [
    "Creating a simple graph with node data that are integers using \n",
    "nx.Graph(), and the add_node method, or add_nodes_from to add \n",
    "multiple nodes in one go. The nodes method returns an iterator\n",
    "object for the nodes, called a NodeView:"
   ],
   "metadata": {
    "collapsed": false,
    "pycharm": {
     "name": "#%% md\n"
    }
   }
  },
  {
   "cell_type": "code",
   "execution_count": 59,
   "outputs": [
    {
     "data": {
      "text/plain": "NodeView((1,))"
     },
     "metadata": {},
     "output_type": "execute_result",
     "execution_count": 59
    }
   ],
   "source": [
    "# Example_25\n",
    "\n",
    "g = nx.Graph()\n",
    "g.add_node(1)\n",
    "g.nodes()"
   ],
   "metadata": {
    "collapsed": false,
    "pycharm": {
     "name": "#%%\n",
     "is_executing": false
    }
   }
  },
  {
   "cell_type": "code",
   "execution_count": null,
   "outputs": [],
   "source": [
    "\n"
   ],
   "metadata": {
    "collapsed": false,
    "pycharm": {
     "name": "#%%\n"
    }
   }
  }
 ],
 "metadata": {
  "kernelspec": {
   "display_name": "Python 3",
   "language": "python",
   "name": "python3"
  },
  "language_info": {
   "codemirror_mode": {
    "name": "ipython",
    "version": 2
   },
   "file_extension": ".py",
   "mimetype": "text/x-python",
   "name": "python",
   "nbconvert_exporter": "python",
   "pygments_lexer": "ipython2",
   "version": "2.7.6"
  },
  "pycharm": {
   "stem_cell": {
    "cell_type": "raw",
    "source": [],
    "metadata": {
     "collapsed": false
    }
   }
  }
 },
 "nbformat": 4,
 "nbformat_minor": 0
}