{
 "cells": [
  {
   "cell_type": "markdown",
   "metadata": {
    "collapsed": true,
    "pycharm": {
     "is_executing": false,
     "name": "#%% md\n"
    }
   },
   "source": [
    "## Sparse Matrices and Graphs"
   ]
  },
  {
   "cell_type": "code",
   "execution_count": 1,
   "outputs": [],
   "source": [
    "# importing modules\n",
    "\n",
    "import scipy.sparse as sp\n",
    "import scipy.sparse.linalg\n",
    "import numpy as np\n",
    "import matplotlib.pyplot as plt\n",
    "import networkx as nx"
   ],
   "metadata": {
    "collapsed": false,
    "pycharm": {
     "name": "#%%\n",
     "is_executing": false
    }
   }
  },
  {
   "cell_type": "markdown",
   "source": [
    "### Scipy.coo_matrix:\n",
    "\n",
    "for example:\n",
    "\n",
    "$$A =  \\begin{bmatrix}0 & 1 & 0 & 0 \\\\0 & 0& 0& 2 \\\\0 & 0 & 3 & 0 \\\\4 & 0 & 0 & 0 \\end{bmatrix} $$"
   ],
   "metadata": {
    "collapsed": false,
    "pycharm": {
     "name": "#%% md\n"
    }
   }
  },
  {
   "cell_type": "code",
   "execution_count": 2,
   "outputs": [
    {
     "data": {
      "text/plain": "<4x4 sparse matrix of type '<class 'numpy.int64'>'\n\twith 4 stored elements in COOrdinate format>"
     },
     "metadata": {},
     "output_type": "execute_result",
     "execution_count": 2
    }
   ],
   "source": [
    "# Example_01\n",
    "\n",
    "values = [1, 2, 3, 4]\n",
    "rows = [0, 1, 2, 3]\n",
    "cols = [1, 3, 2, 0]\n",
    "\n",
    "A = sp.coo_matrix((values, (rows, cols)), shape=[4, 4])\n",
    "A"
   ],
   "metadata": {
    "collapsed": false,
    "pycharm": {
     "name": "#%%\n",
     "is_executing": false
    }
   }
  },
  {
   "cell_type": "code",
   "execution_count": 3,
   "outputs": [
    {
     "name": "stdout",
     "text": [
      "A.shape: (4, 4)\n",
      "A.size: 4\n",
      "A.dtype: int64\n",
      "A.ndim: 2\n"
     ],
     "output_type": "stream"
    }
   ],
   "source": [
    "# Example_02\n",
    "\n",
    "print(f\"A.shape: {A.shape}\")\n",
    "print(f\"A.size: {A.size}\")\n",
    "print(f\"A.dtype: {A.dtype}\")\n",
    "print(f\"A.ndim: {A.ndim}\")"
   ],
   "metadata": {
    "collapsed": false,
    "pycharm": {
     "name": "#%%\n",
     "is_executing": false
    }
   }
  },
  {
   "cell_type": "code",
   "execution_count": 4,
   "outputs": [
    {
     "name": "stdout",
     "text": [
      "A.row: [0 1 2 3]\n",
      "A.col: [1 3 2 0]\n"
     ],
     "output_type": "stream"
    }
   ],
   "source": [
    "# Example_03\n",
    "\n",
    "print(f\"A.row: {A.row}\")\n",
    "print(f\"A.col: {A.col}\")"
   ],
   "metadata": {
    "collapsed": false,
    "pycharm": {
     "name": "#%%\n",
     "is_executing": false
    }
   }
  },
  {
   "cell_type": "code",
   "execution_count": 5,
   "outputs": [
    {
     "data": {
      "text/plain": "<4x4 sparse matrix of type '<class 'numpy.int64'>'\n\twith 4 stored elements in Compressed Sparse Row format>"
     },
     "metadata": {},
     "output_type": "execute_result",
     "execution_count": 5
    }
   ],
   "source": [
    "# Example_04\n",
    "# converting the sparse matrix A from COO format to CSR format:\n",
    "\n",
    "A.tocsr()"
   ],
   "metadata": {
    "collapsed": false,
    "pycharm": {
     "name": "#%%\n",
     "is_executing": false
    }
   }
  },
  {
   "cell_type": "code",
   "execution_count": 6,
   "outputs": [
    {
     "data": {
      "text/plain": "array([[0, 1, 0, 0],\n       [0, 0, 0, 2],\n       [0, 0, 3, 0],\n       [4, 0, 0, 0]])"
     },
     "metadata": {},
     "output_type": "execute_result",
     "execution_count": 6
    }
   ],
   "source": [
    "# Example_05\n",
    "# converting the sparse matrix A from COO to a numpy array:\n",
    "\n",
    "A.toarray()"
   ],
   "metadata": {
    "collapsed": false,
    "pycharm": {
     "name": "#%%\n",
     "is_executing": false
    }
   }
  },
  {
   "cell_type": "code",
   "execution_count": 7,
   "outputs": [
    {
     "name": "stdout",
     "text": [
      "A.data: [1 2 3 4 5 6 7 8 9]\n",
      "A.indices: [0 1 1 2 2 3 0 2 3]\n",
      "A.indptr: [0 2 4 6 9]\n"
     ],
     "output_type": "stream"
    }
   ],
   "source": [
    "# Example_06\n",
    "\n",
    "# creating a dense numpy array:\n",
    "A = np.array([\n",
    "    [1, 2, 0, 0],\n",
    "    [0, 3, 4, 0],\n",
    "    [0, 0, 5, 6],\n",
    "    [7, 0, 8, 9]\n",
    "])\n",
    "\n",
    "# converting to csr matrix:\n",
    "A = sp.csr_matrix(A)\n",
    "\n",
    "# Some related attributes\n",
    "print(f\"A.data: {A.data}\")\n",
    "print(f\"A.indices: {A.indices}\")\n",
    "print(f\"A.indptr: {A.indptr}\")"
   ],
   "metadata": {
    "collapsed": false,
    "pycharm": {
     "name": "#%%\n",
     "is_executing": false
    }
   }
  },
  {
   "cell_type": "code",
   "execution_count": 9,
   "outputs": [
    {
     "name": "stdout",
     "text": [
      "A.indptr[2], A.indptr[3] - 1: (4, 5)\n",
      "A.indices[A.indptr[i]:A.indptr[i+1]]: [2 3]\n",
      "A.data[A.indptr[i]:A.indptr[i+1]]: [5 6]\n"
     ],
     "output_type": "stream"
    },
    {
     "data": {
      "text/plain": "(5, 6)"
     },
     "metadata": {},
     "output_type": "execute_result",
     "execution_count": 9
    }
   ],
   "source": [
    "# Example_07\n",
    "\n",
    "i = 2\n",
    "print(f\"A.indptr[{i}], A.indptr[{i + 1}] - 1: {A.indptr[i], A.indptr[i+1] - 1}\")\n",
    "print(f\"A.indices[A.indptr[i]:A.indptr[i+1]]: {A.indices[A.indptr[i]:A.indptr[i+1]]}\")\n",
    "print(f\"A.data[A.indptr[i]:A.indptr[i+1]]: {A.data[A.indptr[i]:A.indptr[i+1]]}\")\n",
    "A[2, 2], A[2, 3]    # checking"
   ],
   "metadata": {
    "collapsed": false,
    "pycharm": {
     "name": "#%%\n",
     "is_executing": false
    }
   }
  },
  {
   "cell_type": "markdown",
   "source": [
    "### Functions for creating sparse matrices:"
   ],
   "metadata": {
    "collapsed": false,
    "pycharm": {
     "name": "#%% md\n"
    }
   }
  },
  {
   "cell_type": "code",
   "execution_count": 10,
   "outputs": [
    {
     "data": {
      "text/plain": "<10x10 sparse matrix of type '<class 'numpy.float64'>'\n\twith 28 stored elements in Compressed Sparse Row format>"
     },
     "metadata": {},
     "output_type": "execute_result",
     "execution_count": 10
    }
   ],
   "source": [
    "# Example_08\n",
    "# creating a sparse matrix of size 10 by 10\n",
    "# with a main diagonal and an upper and lower diagonal\n",
    "\n",
    "N = 10\n",
    "A = sp.eye(N, k=1) - 2 * sp.eye(N) + sp.eye(N, k=-1)\n",
    "A"
   ],
   "metadata": {
    "collapsed": false,
    "pycharm": {
     "name": "#%%\n",
     "is_executing": false
    }
   }
  },
  {
   "cell_type": "code",
   "execution_count": 11,
   "outputs": [
    {
     "data": {
      "text/plain": "<10x10 sparse matrix of type '<class 'numpy.float64'>'\n\twith 28 stored elements in Compressed Sparse Column format>"
     },
     "metadata": {},
     "output_type": "execute_result",
     "execution_count": 11
    }
   ],
   "source": [
    "# Example_09\n",
    "# creating a sparse matrix of size 10 by 10\n",
    "# using sp.diags()\n",
    "\n",
    "A = sp.diags([1, -2, 1], [1, 0, -1], shape=[N, N], format=\"csc\")\n",
    "A"
   ],
   "metadata": {
    "collapsed": false,
    "pycharm": {
     "name": "#%%\n",
     "is_executing": false
    }
   }
  },
  {
   "cell_type": "code",
   "execution_count": 13,
   "outputs": [
    {
     "data": {
      "text/plain": "<matplotlib.lines.Line2D at 0x7fea2e3de190>"
     },
     "metadata": {},
     "output_type": "execute_result",
     "execution_count": 13
    },
    {
     "data": {
      "text/plain": "<Figure size 432x288 with 1 Axes>",
      "image/png": "[encoded data removed]"
     },
     "metadata": {
      "needs_background": "light"
     },
     "output_type": "display_data"
    }
   ],
   "source": [
    "# Example_10\n",
    "# visualizing sparse matrix using matplotlib\n",
    "\n",
    "fig, ax = plt.subplots()\n",
    "ax.spy(A)"
   ],
   "metadata": {
    "collapsed": false,
    "pycharm": {
     "name": "#%%\n",
     "is_executing": false
    }
   }
  },
  {
   "cell_type": "markdown",
   "source": [
    "Creating a sparse matrix for a tensor product between A and the matrix\n",
    "\n",
    "$$B =  \\begin{bmatrix}0 & 1 & 0 \\\\1 & 0& 1 \\\\0 & 1 & 0 \\\\\\end{bmatrix}$$"
   ],
   "metadata": {
    "collapsed": false,
    "pycharm": {
     "name": "#%% md\n"
    }
   }
  },
  {
   "cell_type": "code",
   "execution_count": 14,
   "outputs": [
    {
     "data": {
      "text/plain": "<matplotlib.lines.Line2D at 0x7fea2a22dd30>"
     },
     "metadata": {},
     "output_type": "execute_result",
     "execution_count": 14
    },
    {
     "data": {
      "text/plain": "<Figure size 864x288 with 3 Axes>",
      "image/png": "[encoded data removed]"
     },
     "metadata": {
      "needs_background": "light"
     },
     "output_type": "display_data"
    }
   ],
   "source": [
    "# Example_11\n",
    "\n",
    "B = sp.diags([1, 1], [-1, 1], shape=[3, 3])\n",
    "C = sp.kron(A, B)\n",
    "fig, (ax_A, ax_B, ax_C) = plt.subplots(1, 3, figsize=(12, 4))\n",
    "ax_A.spy(A)\n",
    "ax_B.spy(B)\n",
    "ax_C.spy(C)\n"
   ],
   "metadata": {
    "collapsed": false,
    "pycharm": {
     "name": "#%%\n",
     "is_executing": false
    }
   }
  }
 ],
 "metadata": {
  "kernelspec": {
   "display_name": "Python 3",
   "language": "python",
   "name": "python3"
  },
  "language_info": {
   "codemirror_mode": {
    "name": "ipython",
    "version": 2
   },
   "file_extension": ".py",
   "mimetype": "text/x-python",
   "name": "python",
   "nbconvert_exporter": "python",
   "pygments_lexer": "ipython2",
   "version": "2.7.6"
  },
  "pycharm": {
   "stem_cell": {
    "cell_type": "raw",
    "source": [],
    "metadata": {
     "collapsed": false
    }
   }
  }
 },
 "nbformat": 4,
 "nbformat_minor": 0
}