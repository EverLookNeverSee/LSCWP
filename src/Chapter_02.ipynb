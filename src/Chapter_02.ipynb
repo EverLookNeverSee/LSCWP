{
 "nbformat": 4,
 "nbformat_minor": 2,
 "metadata": {
  "language_info": {
   "name": "python",
   "codemirror_mode": {
    "name": "ipython",
    "version": 3
   },
   "version": "3.8.1-final"
  },
  "orig_nbformat": 2,
  "file_extension": ".py",
  "mimetype": "text/x-python",
  "name": "python",
  "npconvert_exporter": "python",
  "pygments_lexer": "ipython3",
  "version": 3,
  "kernelspec": {
   "name": "pycharm-1e8679de",
   "language": "python",
   "display_name": "PyCharm (PycharmProjects)"
  },
  "pycharm": {
   "stem_cell": {
    "cell_type": "raw",
    "source": [],
    "metadata": {
     "collapsed": false
    }
   }
  }
 },
 "cells": [
  {
   "cell_type": "markdown",
   "source": [
    "## Equation Solving\n",
    "### Importing modules:"
   ],
   "metadata": {
    "collapsed": false,
    "pycharm": {
     "name": "#%% md\n",
     "is_executing": false
    }
   }
  },
  {
   "cell_type": "code",
   "execution_count": 1,
   "outputs": [],
   "source": [
    "from scipy import linalg as la\n",
    "from scipy import optimize\n",
    "import numpy as np\n",
    "import matplotlib.pyplot as plt"
   ],
   "metadata": {
    "collapsed": false,
    "pycharm": {
     "name": "#%%\n",
     "is_executing": false
    }
   }
  },
  {
   "cell_type": "markdown",
   "source": [
    "### Linear Equation Systems:"
   ],
   "metadata": {
    "collapsed": false,
    "pycharm": {
     "name": "#%% md\n"
    }
   }
  },
  {
   "cell_type": "markdown",
   "source": [
    "In general, a linear equation system can be written on the form:\n",
    "\n",
    "\\begin{gather*}\n",
    "\\Large a_{11}x_{1}  + a_{12}x_{2} + ... + a_{1n}x_{n} = b_{1}, \\\\\n",
    "\\Large a_{21}x_{1}  + a_{22}x_{2} + ... + a_{2n}x_{n} = b_{2}, \\\\\n",
    "\\newline\n",
    "\\Large a_{m1}x_{1}  + a_{m2}x_{2} + ... + a_{mn}x_{n} = b_{m}\n",
    "\\end{gather*}"
   ],
   "metadata": {
    "collapsed": false,
    "pycharm": {
     "name": "#%% md\n"
    }
   }
  },
  {
   "cell_type": "markdown",
   "source": [
    "### Square Systems:\n",
    "\n",
    "\\begin{gather*}\n",
    "\\Large \\frac{ \\| \\delta x\\| }{\\|x\\|}=\\frac{\\|A^{-1} \\delta b \\|}{\\|x\\|} \\leq  \\frac{\\|A^{-1}\\| . \\| \\delta b\\|}{\\|x\\|}= \\frac{\\|A^{-1}\\| . \\|b\\|}{\\|x\\|}. \\frac{\\|\\delta b\\|}{\\|b\\|}  \\leq \\|A^{-1}\\| . \\|A\\| .  \\frac{\\|\\delta b\\|}{\\|b\\|}\n",
    "\\end{gather*}"
   ],
   "metadata": {
    "collapsed": false,
    "pycharm": {
     "name": "#%% md\n",
     "is_executing": false
    }
   }
  },
  {
   "cell_type": "code",
   "execution_count": 3,
   "outputs": [
    {
     "name": "stdout",
     "text": [
      "Rank of A: 2\n",
      "Condition Number of A: 7.582401374401514\n"
     ],
     "output_type": "stream"
    }
   ],
   "source": [
    "# Example_01\n",
    "\n",
    "A = np.array([\n",
    "    [2, 3],\n",
    "    [5, 4]\n",
    "])\n",
    "\n",
    "B = np.array([4, 3])\n",
    "print(f\"Rank of A: {np.linalg.matrix_rank(A)}\")\n",
    "print(f\"Condition Number of A: {np.linalg.cond(A)}\")"
   ],
   "metadata": {
    "collapsed": false,
    "pycharm": {
     "name": "#%%\n",
     "is_executing": false
    }
   }
  },
  {
   "cell_type": "code",
   "execution_count": null,
   "outputs": [],
   "source": [
    "\n"
   ],
   "metadata": {
    "collapsed": false,
    "pycharm": {
     "name": "#%%\n"
    }
   }
  }
 ]
}