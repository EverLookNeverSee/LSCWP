{
 "nbformat": 4,
 "nbformat_minor": 2,
 "metadata": {
  "language_info": {
   "name": "python",
   "codemirror_mode": {
    "name": "ipython",
    "version": 3
   },
   "version": "3.8.1-final"
  },
  "orig_nbformat": 2,
  "file_extension": ".py",
  "mimetype": "text/x-python",
  "name": "python",
  "npconvert_exporter": "python",
  "pygments_lexer": "ipython3",
  "version": 3,
  "kernelspec": {
   "name": "python3",
   "language": "python",
   "display_name": "Python 3"
  },
  "pycharm": {
   "stem_cell": {
    "cell_type": "raw",
    "source": [],
    "metadata": {
     "collapsed": false
    }
   }
  }
 },
 "cells": [
  {
   "cell_type": "markdown",
   "source": [
    "## Equation Solving\n",
    "### Importing modules:"
   ],
   "metadata": {
    "collapsed": false,
    "pycharm": {
     "name": "#%% md\n",
     "is_executing": false
    }
   }
  },
  {
   "cell_type": "code",
   "execution_count": 1,
   "outputs": [],
   "source": [
    "from scipy import linalg as la\n",
    "from scipy import optimize\n",
    "import sympy\n",
    "sympy.init_printing()\n",
    "import numpy as np\n",
    "import matplotlib.pyplot as plt"
   ],
   "metadata": {
    "collapsed": false,
    "pycharm": {
     "name": "#%%\n",
     "is_executing": false
    }
   }
  },
  {
   "cell_type": "markdown",
   "source": [
    "### Linear Equation Systems:"
   ],
   "metadata": {
    "collapsed": false,
    "pycharm": {
     "name": "#%% md\n"
    }
   }
  },
  {
   "cell_type": "markdown",
   "source": [
    "In general, a linear equation system can be written on the form:\n",
    "\n",
    "\\begin{gather*}\n",
    "\\Large a_{11}x_{1}  + a_{12}x_{2} + ... + a_{1n}x_{n} = b_{1}, \\\\\n",
    "\\Large a_{21}x_{1}  + a_{22}x_{2} + ... + a_{2n}x_{n} = b_{2}, \\\\\n",
    "\\newline\n",
    "\\Large a_{m1}x_{1}  + a_{m2}x_{2} + ... + a_{mn}x_{n} = b_{m}\n",
    "\\end{gather*}"
   ],
   "metadata": {
    "collapsed": false,
    "pycharm": {
     "name": "#%% md\n"
    }
   }
  },
  {
   "cell_type": "markdown",
   "source": [
    "### Square Systems:\n",
    "\n",
    "\\begin{gather*}\n",
    "\\Large \\frac{ \\| \\delta x\\| }{\\|x\\|}=\\frac{\\|A^{-1} \\delta b \\|}{\\|x\\|} \\leq  \\frac{\\|A^{-1}\\| . \\| \\delta b\\|}{\\|x\\|}= \\frac{\\|A^{-1}\\| . \\|b\\|}{\\|x\\|}. \\frac{\\|\\delta b\\|}{\\|b\\|}  \\leq \\|A^{-1}\\| . \\|A\\| .  \\frac{\\|\\delta b\\|}{\\|b\\|}\n",
    "\\end{gather*}"
   ],
   "metadata": {
    "collapsed": false,
    "pycharm": {
     "name": "#%% md\n",
     "is_executing": false
    }
   }
  },
  {
   "cell_type": "markdown",
   "source": [
    "#### Example:\n",
    "\n",
    "\\begin{gather*}\n",
    "\\Large 2x_{1} + 3x_{2} = 4 \\\\\n",
    "\\Large 5x_{1} + 4x_{2} = 3\n",
    "\\end{gather*}"
   ],
   "metadata": {
    "collapsed": false,
    "pycharm": {
     "name": "#%% md\n"
    }
   }
  },
  {
   "cell_type": "code",
   "execution_count": 2,
   "outputs": [
    {
     "name": "stdout",
     "text": [
      "Rank of A: 2\n",
      "Condition number of A: sqrt(2*sqrt(170) + 27)/sqrt(27 - 2*sqrt(170))\n",
      "Norm of A: 3*sqrt(6)\n"
     ],
     "output_type": "stream"
    }
   ],
   "source": [
    "# Using SymPy\n",
    "A = sympy.Matrix([\n",
    "    [2, 3],\n",
    "    [5, 4]\n",
    "])\n",
    "b = sympy.Matrix([4, 3])\n",
    "\n",
    "print(f\"Rank of A: {A.rank()}\")\n",
    "print(f\"Condition number of A: {A.condition_number()}\")\n",
    "print(f\"Norm of A: {A.norm()}\")"
   ],
   "metadata": {
    "collapsed": false,
    "pycharm": {
     "name": "#%%\n",
     "is_executing": false
    }
   }
  },
  {
   "cell_type": "code",
   "execution_count": 3,
   "outputs": [
    {
     "name": "stdout",
     "text": [
      "Rank of A: 2\n",
      "Condition number of A: 7.582401374401516\n",
      "Norm of A: 7.3484692283495345\n"
     ],
     "output_type": "stream"
    }
   ],
   "source": [
    "# Using Numpy/SciPy\n",
    "A = np.array([\n",
    "    [2, 3],\n",
    "    [5, 4]\n",
    "])\n",
    "b = np.array([4, 3])\n",
    "\n",
    "print(f\"Rank of A: {np.linalg.matrix_rank(A)}\")\n",
    "print(f\"Condition number of A: {np.linalg.cond(A)}\")\n",
    "print(f\"Norm of A: {np.linalg.norm(A)}\")"
   ],
   "metadata": {
    "collapsed": false,
    "pycharm": {
     "name": "#%%\n",
     "is_executing": false
    }
   }
  },
  {
   "cell_type": "markdown",
   "source": [
    "### LU factorization \n",
    "#### In SymPy:"
   ],
   "metadata": {
    "collapsed": false,
    "pycharm": {
     "name": "#%% md\n"
    }
   }
  },
  {
   "cell_type": "code",
   "execution_count": 4,
   "outputs": [
    {
     "name": "stdout",
     "text": [
      "L: Matrix([[1, 0], [5/2, 1]])\n",
      "U: Matrix([[2, 3], [0, -7/2]])\n",
      "L * U: Matrix([[2, 3], [5, 4]])\n",
      "x: Matrix([[-1], [2]])\n"
     ],
     "output_type": "stream"
    }
   ],
   "source": [
    "A = sympy.Matrix([\n",
    "    [2, 3],\n",
    "    [5, 4]\n",
    "])\n",
    "b = sympy.Matrix([4, 3])\n",
    "\n",
    "L, U, _ = A.LUdecomposition()\n",
    "print(f\"L: {L}\")\n",
    "print(f\"U: {U}\")\n",
    "print(f\"L * U: {L * U}\")\n",
    "\n",
    "x = A.solve(b)  # equivalent to A.LUsolve(b)\n",
    "print(f\"x: {x}\")"
   ],
   "metadata": {
    "collapsed": false,
    "pycharm": {
     "name": "#%%\n",
     "is_executing": false
    }
   }
  },
  {
   "cell_type": "code",
   "execution_count": 5,
   "outputs": [
    {
     "name": "stdout",
     "text": [
      "L: \n",
      "[[1.  0. ]\n",
      " [0.4 1. ]]\n",
      "\n",
      "U: \n",
      "[[5.  4. ]\n",
      " [0.  1.4]]\n",
      "\n",
      "P.dot(L.dot(U)): \n",
      "[[2. 3.]\n",
      " [5. 4.]]\n",
      "\n",
      "x: [-1.  2.]\n"
     ],
     "output_type": "stream"
    }
   ],
   "source": [
    "A = np.array([\n",
    "    [2, 3],\n",
    "    [5, 4]\n",
    "])\n",
    "b = np.array([4, 3])\n",
    "\n",
    "P, L, U = la.lu(A)\n",
    "print(f\"L: \\n{L}\\n\")\n",
    "print(f\"U: \\n{U}\\n\")\n",
    "print(f\"P.dot(L.dot(U)): \\n{P.dot(L.dot(U))}\\n\")\n",
    "x = la.solve(A, b)\n",
    "print(f\"x: {x}\")"
   ],
   "metadata": {
    "collapsed": false,
    "pycharm": {
     "name": "#%%\n",
     "is_executing": false
    }
   }
  },
  {
   "cell_type": "markdown",
   "source": [
    "### Rectangular Systems:"
   ],
   "metadata": {
    "collapsed": false,
    "pycharm": {
     "name": "#%% md\n",
     "is_executing": false
    }
   }
  },
  {
   "cell_type": "code",
   "execution_count": 6,
   "outputs": [],
   "source": [
    "# defining true model\n",
    "x = np.linspace(-1, 1, 100)\n",
    "a, b, c = 1, 2, 3\n",
    "y_exact = a + b * x + c * x ** 2"
   ],
   "metadata": {
    "collapsed": false,
    "pycharm": {
     "name": "#%%\n",
     "is_executing": false
    }
   }
  },
  {
   "cell_type": "code",
   "execution_count": 7,
   "outputs": [],
   "source": [
    "# simulate noisy data\n",
    "m = 100\n",
    "X = 1 - 2 * np.random.randn(m)\n",
    "Y = a + b * X  + c * x ** 2 + np.random.randn(m)"
   ],
   "metadata": {
    "collapsed": false,
    "pycharm": {
     "name": "#%%\n",
     "is_executing": false
    }
   }
  },
  {
   "cell_type": "code",
   "execution_count": 8,
   "outputs": [
    {
     "data": {
      "text/plain": "<matplotlib.legend.Legend at 0x7ff91db41400>"
     },
     "metadata": {},
     "output_type": "execute_result",
     "execution_count": 8
    },
    {
     "data": {
      "text/plain": "<Figure size 864x288 with 1 Axes>",
      "image/png": "[encoded data removed]"
     },
     "metadata": {
      "needs_background": "light"
     },
     "output_type": "display_data"
    }
   ],
   "source": [
    "# fit the data to the model using linear least squares\n",
    "A = np.vstack([X**0, x**1, x**2])\n",
    "sol, r, rank, sv = la.lstsq(A.T, Y)\n",
    "\n",
    "y_fit = sol[0] + sol[1] * x + sol[2] * x**2\n",
    "fig, ax = plt.subplots(figsize=(12, 4))\n",
    "\n",
    "ax.plot(X, Y, 'go', alpha=0.5, label='Simulated data')\n",
    "ax.plot(x, y_exact, 'k', lw=2, label='True value $y = 1 + 2x + 3x^2$')\n",
    "ax.plot(x, y_fit, 'b', lw=2, label='Least square fit')\n",
    "ax.set_xlabel(r\"$x$\", fontsize=18)\n",
    "ax.set_ylabel(r\"$y$\", fontsize=18)\n",
    "ax.legend(loc=2)"
   ],
   "metadata": {
    "collapsed": false,
    "pycharm": {
     "name": "#%%\n",
     "is_executing": false
    }
   }
  },
  {
   "cell_type": "code",
   "execution_count": 9,
   "outputs": [
    {
     "data": {
      "text/plain": "<matplotlib.legend.Legend at 0x7ff921e4ae50>"
     },
     "metadata": {},
     "output_type": "execute_result",
     "execution_count": 9
    },
    {
     "data": {
      "text/plain": "<Figure size 864x288 with 1 Axes>",
      "image/png": "[encoded data removed]"
     },
     "metadata": {
      "needs_background": "light"
     },
     "output_type": "display_data"
    }
   ],
   "source": [
    "# fit the data to the model using linear least square:\n",
    "# first order polynomial\n",
    "A = np.vstack([X**n for n in range(2)])\n",
    "sol, r , rank, sv = la.lstsq(A.T, Y)\n",
    "y_fit1 = sum([s * x**n for n, s in enumerate(sol)])\n",
    "\n",
    "# 15th order polynomial\n",
    "A = np.vstack([X**n for n in range(16)])\n",
    "sol, r, rank, sv = la.lstsq(A.T, Y)\n",
    "y_fit15 = sum([s * x**n for n, s in enumerate(sol)])\n",
    "\n",
    "fig, ax = plt.subplots(figsize=(12, 4))\n",
    "ax.plot(X, Y, 'go', alpha=0.5, label='Simulated data')\n",
    "ax.plot(x, y_exact, 'k', lw=2, label='True value $y = 1 + 2x + 3x^2$')\n",
    "ax.plot(x, y_fit1, 'b', lw=2, label='Least square fit [1st order]')\n",
    "ax.plot(x, y_fit15, 'm', lw=2, label='Least square fit [15th order]')\n",
    "ax.set_xlabel(r\"$x$\", fontsize=18)\n",
    "ax.set_ylabel(r\"$y$\", fontsize=18)\n",
    "ax.legend(loc=2)"
   ],
   "metadata": {
    "collapsed": false,
    "pycharm": {
     "name": "#%%\n",
     "is_executing": false
    }
   }
  },
  {
   "cell_type": "markdown",
   "source": [
    "### EigenValue Problems:"
   ],
   "metadata": {
    "collapsed": false,
    "pycharm": {
     "name": "#%% md\n",
     "is_executing": false
    }
   }
  },
  {
   "cell_type": "code",
   "execution_count": 10,
   "outputs": [
    {
     "name": "stdout",
     "text": [
      "e_vals: [13.35310908+0.j -1.75902942+0.j  3.40592034+0.j]\n",
      "\n",
      "e_vecs: \n",
      "[[ 0.42663918  0.90353276 -0.04009445]\n",
      " [ 0.43751227 -0.24498225 -0.8651975 ]\n",
      " [ 0.79155671 -0.35158534  0.49982569]]\n",
      "\n",
      "la.eigvalsh: [-1.75902942  3.40592034 13.35310908]\n"
     ],
     "output_type": "stream"
    }
   ],
   "source": [
    "# Example_01\n",
    "A = np.array([\n",
    "    [1, 3, 5],\n",
    "    [3, 5, 3],\n",
    "    [5, 3, 9]\n",
    "])\n",
    "e_vals, e_vecs = la.eig(A)\n",
    "print(f\"e_vals: {e_vals}\\n\")\n",
    "print(f\"e_vecs: \\n{e_vecs}\\n\")\n",
    "print(f\"la.eigvalsh: {la.eigvalsh(A)}\")"
   ],
   "metadata": {
    "collapsed": false,
    "pycharm": {
     "name": "#%%\n",
     "is_executing": false
    }
   }
  },
  {
   "cell_type": "markdown",
   "source": [
    "### Non-Linear Equations:\n",
    "$$a + bx + cx^{2} = 0$$"
   ],
   "metadata": {
    "collapsed": false,
    "pycharm": {
     "name": "#%% md\n"
    }
   }
  },
  {
   "cell_type": "code",
   "execution_count": 11,
   "outputs": [
    {
     "data": {
      "text/plain": "⎡        _____________   ⎛       _____________⎞ ⎤\n⎢       ╱           2    ⎜      ╱           2 ⎟ ⎥\n⎢-b + ╲╱  -4⋅a⋅c + b    -⎝b + ╲╱  -4⋅a⋅c + b  ⎠ ⎥\n⎢─────────────────────, ────────────────────────⎥\n⎣         2⋅c                     2⋅c           ⎦",
      "image/png": "[encoded data removed]",
      "text/latex": "$\\displaystyle \\left[ \\frac{- b + \\sqrt{- 4 a c + b^{2}}}{2 c}, \\  - \\frac{b + \\sqrt{- 4 a c + b^{2}}}{2 c}\\right]$"
     },
     "metadata": {},
     "output_type": "execute_result",
     "execution_count": 11
    }
   ],
   "source": [
    "# Solving using sympy:\n",
    "\n",
    "x, a, b, c = sympy.symbols(\"x, a, b, c\")\n",
    "sympy.solve(a + b*x + c*x**2, x)"
   ],
   "metadata": {
    "collapsed": false,
    "pycharm": {
     "name": "#%%\n",
     "is_executing": false
    }
   }
  },
  {
   "cell_type": "code",
   "execution_count": 12,
   "outputs": [
    {
     "data": {
      "text/plain": "⎡       ⎛       _________⎞         ⎛       _________⎞⎤\n⎢       ⎜      ╱  2    2 ⎟         ⎜      ╱  2    2 ⎟⎥\n⎢       ⎜b - ╲╱  a  + b  ⎟         ⎜b + ╲╱  a  + b  ⎟⎥\n⎢-2⋅atan⎜────────────────⎟, -2⋅atan⎜────────────────⎟⎥\n⎣       ⎝       a        ⎠         ⎝       a        ⎠⎦",
      "image/png": "[encoded data removed]",
      "text/latex": "$\\displaystyle \\left[ - 2 \\operatorname{atan}{\\left(\\frac{b - \\sqrt{a^{2} + b^{2}}}{a} \\right)}, \\  - 2 \\operatorname{atan}{\\left(\\frac{b + \\sqrt{a^{2} + b^{2}}}{a} \\right)}\\right]$"
     },
     "metadata": {},
     "output_type": "execute_result",
     "execution_count": 12
    }
   ],
   "source": [
    "# trigonometric equations:\n",
    "sympy.solve(a * sympy.cos(x) - b * sympy.sin(x), x)"
   ],
   "metadata": {
    "collapsed": false,
    "pycharm": {
     "name": "#%%\n",
     "is_executing": false
    }
   }
  },
  {
   "cell_type": "code",
   "execution_count": 13,
   "outputs": [
    {
     "name": "stdout",
     "text": [
      "No algorithms are implemented to solve equation\n"
     ],
     "output_type": "stream"
    }
   ],
   "source": [
    "# Example for not solvable equation:\n",
    "try:\n",
    "    sympy.solve(sympy.sin(x) - x, x)\n",
    "except NotImplementedError:\n",
    "    print(\"No algorithms are implemented to solve equation\")"
   ],
   "metadata": {
    "collapsed": false,
    "pycharm": {
     "name": "#%%\n",
     "is_executing": false
    }
   }
  },
  {
   "cell_type": "code",
   "execution_count": 14,
   "outputs": [
    {
     "data": {
      "text/plain": "<Figure size 864x216 with 4 Axes>",
      "image/png": "[encoded data removed]"
     },
     "metadata": {
      "needs_background": "light"
     },
     "output_type": "display_data"
    }
   ],
   "source": [
    "# Example_02\n",
    "\n",
    "x = np.linspace(-2, 2, 1000)\n",
    "\n",
    "# four examples of nonlinear functions\n",
    "f1 = x**2 - x - 1\n",
    "f2 = x**3 - 3 * np.sin(x)\n",
    "f3 = np.exp(x) - 2\n",
    "f4 = 1 - x**2 + np.sin(50 / (1 + x**2))\n",
    "\n",
    "# plot each function\n",
    "fig, axes = plt.subplots(1, 4, figsize=(12, 3), sharey=True)\n",
    "\n",
    "for n, f in enumerate([f1, f2, f3, f4]):\n",
    "    axes[n].plot(x, f, lw=1.5)\n",
    "    axes[n].axhline(0, ls=':', color='k')\n",
    "    axes[n].set_ylim(-5, 5)\n",
    "    axes[n].set_xticks([-2, -1, 0, 1, 2])\n",
    "    axes[n].set_xlabel(r'$x$', fontsize=18)\n",
    "\n",
    "axes[0].set_ylabel(r'$f(x)$', fontsize=18)\n",
    "\n",
    "titles = [r'$f(x)=x^2-x-1$', r'$f(x)=x^3-3\\sin(x)$',\n",
    "          r'$f(x)=\\exp(x)-2$', r'$f(x)=\\sin\\left(50/(1+x^2)\\right)+1-x^2$']\n",
    "for n, title in enumerate(titles):\n",
    "    axes[n].set_title(title)"
   ],
   "metadata": {
    "collapsed": false,
    "pycharm": {
     "name": "#%%\n",
     "is_executing": false
    }
   }
  },
  {
   "cell_type": "code",
   "execution_count": 15,
   "outputs": [
    {
     "data": {
      "text/plain": "Text(0.5, 1.0, 'Bisection method')"
     },
     "metadata": {},
     "output_type": "execute_result",
     "execution_count": 15
    },
    {
     "data": {
      "text/plain": "<Figure size 864x288 with 1 Axes>",
      "image/png": "[encoded data removed]"
     },
     "metadata": {
      "needs_background": "light"
     },
     "output_type": "display_data"
    }
   ],
   "source": [
    "# Example_03\n",
    "# The bisection method with a graphical visualization of each step:\n",
    "\n",
    "# define a function, desired tolerance and starting interval [a, b]\n",
    "f = lambda x: np.exp(x) - 2\n",
    "tol = 0.1\n",
    "a, b = -2, 2\n",
    "x = np.linspace(-2.1, 2.1, 1000)\n",
    "\n",
    "# graph the function f\n",
    "fig, ax = plt.subplots(1, 1, figsize=(12, 4))\n",
    "\n",
    "ax.plot(x, f(x), lw=1.5)\n",
    "ax.axhline(0, ls=':', color='k')\n",
    "ax.set_xticks([-2, -1, 0, 1, 2])\n",
    "ax.set_xlabel(r'$x$', fontsize=18)\n",
    "ax.set_ylabel(r'$f(x)$', fontsize=18)\n",
    "\n",
    "# find the root using the bisection method and visualize\n",
    "# the steps in the method in the graph\n",
    "fa, fb = f(a), f(b)\n",
    "\n",
    "ax.plot(a, fa, 'ko')\n",
    "ax.plot(b, fb, 'ko')\n",
    "ax.text(a, fa + 0.5, r\"$a$\", ha='center', fontsize=18)\n",
    "ax.text(b, fb + 0.5, r\"$b$\", ha='center', fontsize=18)\n",
    "\n",
    "n = 1\n",
    "while b - a > tol:\n",
    "    m = a + (b - a)/2\n",
    "    fm = f(m)\n",
    "\n",
    "    ax.plot(m, fm, 'ko')\n",
    "    ax.text(m, fm - 0.5, r\"$m_%d$\" % n, ha='center')\n",
    "    n += 1\n",
    "    \n",
    "    if np.sign(fa) == np.sign(fm):\n",
    "        a, fa = m, fm\n",
    "    else:\n",
    "        b, fb = m, fm\n",
    "\n",
    "ax.plot(m, fm, 'r*', markersize=10)\n",
    "ax.annotate(\"Root approximately at %.3f\" % m,\n",
    "            fontsize=14, family=\"serif\",\n",
    "            xy=(a, fm), xycoords='data',\n",
    "            xytext=(-150, +50), textcoords='offset points', \n",
    "            arrowprops=dict(arrowstyle=\"->\", connectionstyle=\"arc3, rad=-.5\"))\n",
    "\n",
    "ax.set_title(\"Bisection method\")"
   ],
   "metadata": {
    "collapsed": false,
    "pycharm": {
     "name": "#%%\n",
     "is_executing": false
    }
   }
  },
  {
   "cell_type": "code",
   "execution_count": 16,
   "outputs": [
    {
     "data": {
      "text/plain": "[<matplotlib.axis.XTick at 0x7ff91b8a8370>,\n <matplotlib.axis.XTick at 0x7ff91b8a8520>,\n <matplotlib.axis.XTick at 0x7ff91b840820>,\n <matplotlib.axis.XTick at 0x7ff91b7cab20>]"
     },
     "metadata": {},
     "output_type": "execute_result",
     "execution_count": 16
    },
    {
     "data": {
      "text/plain": "<Figure size 864x288 with 1 Axes>",
      "image/png": "[encoded data removed]"
     },
     "metadata": {
      "needs_background": "light"
     },
     "output_type": "display_data"
    }
   ],
   "source": [
    "# Example_04\n",
    "# Newton's method\n",
    "# Using sympy:\n",
    "\n",
    "# defining a function, desired tolernce and starting point xk\n",
    "tol = 0.01\n",
    "xk = 2\n",
    "\n",
    "s_x = sympy.symbols(\"x\")\n",
    "s_f = sympy.exp(s_x) - 2\n",
    "\n",
    "f = lambda x: sympy.lambdify(s_x, s_f, 'numpy')(x)\n",
    "fp = lambda x: sympy.lambdify(s_x, sympy.diff(s_f, s_x), 'numpy')(x)\n",
    "\n",
    "x = np.linspace(-1, 2.1, 1000)\n",
    "\n",
    "# setting up a graph for visualizing the root finding steps\n",
    "fig, ax = plt.subplots(1, 1, figsize=(12, 4))\n",
    "ax.plot(x, f(x))\n",
    "ax.axhline(0, ls=\":\", color=\"k\")\n",
    "\n",
    "# iterating newton's method until convergence to the desired tolerance\n",
    "# has been reached\n",
    "n = 0\n",
    "while f(xk) > tol:\n",
    "    xk_new = xk - f(xk) / fp(xk)\n",
    "    ax.plot([xk, xk], [0, f(xk)], color='k', ls=':')\n",
    "    ax.plot(xk, f(xk), 'ko')\n",
    "    ax.text(xk, -.5, r'$x_%d$' % n, ha='center')\n",
    "    ax.plot([xk, xk_new], [f(xk), 0], 'k-')\n",
    "    \n",
    "    xk = xk_new\n",
    "    n += 1\n",
    "\n",
    "ax.plot(xk, f(xk), 'r*', markersize=15)\n",
    "ax.annotate(\"Root approximately at %.3f\" % xk,\n",
    "            fontsize=14, family=\"serif\",\n",
    "            xy=(xk, f(xk)), xycoords='data',\n",
    "            xytext=(-150, +50), textcoords='offset points',\n",
    "            arrowprops=dict(arrowstyle=\"->\",\n",
    "                             connectionstyle=\"arc3, rad=-.5\"))\n",
    "\n",
    "ax.set_title(\"Newtown's method\")\n",
    "ax.set_xticks([-1, 0, 1, 2])    "
   ],
   "metadata": {
    "collapsed": false,
    "pycharm": {
     "name": "#%%\n",
     "is_executing": false
    }
   }
  },
  {
   "cell_type": "code",
   "execution_count": 17,
   "outputs": [
    {
     "data": {
      "text/plain": "0.6931471805601177",
      "image/png": "[encoded data removed]",
      "text/latex": "$\\displaystyle 0.6931471805601177$"
     },
     "metadata": {},
     "output_type": "execute_result",
     "execution_count": 17
    }
   ],
   "source": [
    "# Example_05\n",
    "# Using SciPy\n",
    "\n",
    "optimize.bisect(lambda x: np.exp(x) - 2, -2, 2)"
   ],
   "metadata": {
    "collapsed": false,
    "pycharm": {
     "name": "#%%\n",
     "is_executing": false
    }
   }
  },
  {
   "cell_type": "code",
   "execution_count": 18,
   "outputs": [
    {
     "name": "stdout",
     "text": [
      "optimize.newton(f, x_root_guess): 0.6931471805599455\n",
      "optimize.newton(f, x_root_guess, fprime=fprime): 0.6931471805599453\n"
     ],
     "output_type": "stream"
    }
   ],
   "source": [
    "# Example_06\n",
    "# finding the root of the equation expx - 2 = 0\n",
    "# with and without specifying its derivative.\n",
    "\n",
    "x_root_guess = 2\n",
    "f = lambda x: np.exp(x) -2\n",
    "fprime = lambda x:np.exp(x)\n",
    "print(f\"optimize.newton(f, x_root_guess): {optimize.newton(f, x_root_guess)}\")\n",
    "print(f\"optimize.newton(f, x_root_guess, fprime=fprime): \"\n",
    "      f\"{optimize.newton(f, x_root_guess, fprime=fprime)}\")"
   ],
   "metadata": {
    "collapsed": false,
    "pycharm": {
     "name": "#%%\n",
     "is_executing": false
    }
   }
  },
  {
   "cell_type": "code",
   "execution_count": 20,
   "outputs": [
    {
     "name": "stdout",
     "text": [
      "optimize.brentq(lambda x: np.exp(x) - 2, -2, 2): 0.6931471805599453\n",
      "optimize.brenth(lambda x: np.exp(x) - 2, -2, 2): 0.6931471805599381\n"
     ],
     "output_type": "stream"
    }
   ],
   "source": [
    "# Example_07\n",
    "# finding the root of the equation expx - 2 = 0\n",
    "# using optimize.brentq(), optimize.brenth()\n",
    "\n",
    "print(f\"optimize.brentq(lambda x: np.exp(x) - 2, -2, 2): \"\n",
    "      f\"{optimize.brentq(lambda x: np.exp(x) - 2, -2, 2)}\")\n",
    "\n",
    "print(f\"optimize.brenth(lambda x: np.exp(x) - 2, -2, 2): \"\n",
    "      f\"{optimize.brenth(lambda x: np.exp(x) - 2, -2, 2)}\")"
   ],
   "metadata": {
    "collapsed": false,
    "pycharm": {
     "name": "#%%\n",
     "is_executing": false
    }
   }
  },
  {
   "cell_type": "markdown",
   "source": [
    "### Systems of Non-Linear Equations:"
   ],
   "metadata": {
    "collapsed": false,
    "pycharm": {
     "name": "#%% md\n"
    }
   }
  },
  {
   "cell_type": "code",
   "execution_count": null,
   "outputs": [],
   "source": [
    "\n"
   ],
   "metadata": {
    "collapsed": false,
    "pycharm": {
     "name": "#%%\n"
    }
   }
  }
 ]
}