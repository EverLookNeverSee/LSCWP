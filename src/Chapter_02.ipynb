{
 "nbformat": 4,
 "nbformat_minor": 2,
 "metadata": {
  "language_info": {
   "name": "python",
   "codemirror_mode": {
    "name": "ipython",
    "version": 3
   },
   "version": "3.8.1-final"
  },
  "orig_nbformat": 2,
  "file_extension": ".py",
  "mimetype": "text/x-python",
  "name": "python",
  "npconvert_exporter": "python",
  "pygments_lexer": "ipython3",
  "version": 3,
  "kernelspec": {
   "name": "python3",
   "language": "python",
   "display_name": "Python 3"
  },
  "pycharm": {
   "stem_cell": {
    "cell_type": "raw",
    "source": [],
    "metadata": {
     "collapsed": false
    }
   }
  }
 },
 "cells": [
  {
   "cell_type": "markdown",
   "source": [
    "## Equation Solving\n",
    "### Importing modules:"
   ],
   "metadata": {
    "collapsed": false,
    "pycharm": {
     "name": "#%% md\n",
     "is_executing": false
    }
   }
  },
  {
   "cell_type": "code",
   "execution_count": 11,
   "outputs": [],
   "source": [
    "from scipy import linalg as la\n",
    "from scipy import optimize\n",
    "import sympy\n",
    "sympy.init_printing()\n",
    "import numpy as np\n",
    "import matplotlib.pyplot as plt"
   ],
   "metadata": {
    "collapsed": false,
    "pycharm": {
     "name": "#%%\n",
     "is_executing": false
    }
   }
  },
  {
   "cell_type": "markdown",
   "source": [
    "### Linear Equation Systems:"
   ],
   "metadata": {
    "collapsed": false,
    "pycharm": {
     "name": "#%% md\n"
    }
   }
  },
  {
   "cell_type": "markdown",
   "source": [
    "In general, a linear equation system can be written on the form:\n",
    "\n",
    "\\begin{gather*}\n",
    "\\Large a_{11}x_{1}  + a_{12}x_{2} + ... + a_{1n}x_{n} = b_{1}, \\\\\n",
    "\\Large a_{21}x_{1}  + a_{22}x_{2} + ... + a_{2n}x_{n} = b_{2}, \\\\\n",
    "\\newline\n",
    "\\Large a_{m1}x_{1}  + a_{m2}x_{2} + ... + a_{mn}x_{n} = b_{m}\n",
    "\\end{gather*}"
   ],
   "metadata": {
    "collapsed": false,
    "pycharm": {
     "name": "#%% md\n"
    }
   }
  },
  {
   "cell_type": "markdown",
   "source": [
    "### Square Systems:\n",
    "\n",
    "\\begin{gather*}\n",
    "\\Large \\frac{ \\| \\delta x\\| }{\\|x\\|}=\\frac{\\|A^{-1} \\delta b \\|}{\\|x\\|} \\leq  \\frac{\\|A^{-1}\\| . \\| \\delta b\\|}{\\|x\\|}= \\frac{\\|A^{-1}\\| . \\|b\\|}{\\|x\\|}. \\frac{\\|\\delta b\\|}{\\|b\\|}  \\leq \\|A^{-1}\\| . \\|A\\| .  \\frac{\\|\\delta b\\|}{\\|b\\|}\n",
    "\\end{gather*}"
   ],
   "metadata": {
    "collapsed": false,
    "pycharm": {
     "name": "#%% md\n",
     "is_executing": false
    }
   }
  },
  {
   "cell_type": "markdown",
   "source": [
    "#### Example:\n",
    "\n",
    "\\begin{gather*}\n",
    "\\Large 2x_{1} + 3x_{2} = 4 \\\\\n",
    "\\Large 5x_{1} + 4x_{2} = 3\n",
    "\\end{gather*}"
   ],
   "metadata": {
    "collapsed": false,
    "pycharm": {
     "name": "#%% md\n"
    }
   }
  },
  {
   "cell_type": "code",
   "execution_count": 12,
   "outputs": [
    {
     "name": "stdout",
     "text": [
      "Rank of A: 2\n",
      "Condition number of A: sqrt(2*sqrt(170) + 27)/sqrt(27 - 2*sqrt(170))\n",
      "Norm of A: 3*sqrt(6)\n"
     ],
     "output_type": "stream"
    }
   ],
   "source": [
    "# Using SymPy\n",
    "A = sympy.Matrix([\n",
    "    [2, 3],\n",
    "    [5, 4]\n",
    "])\n",
    "b = sympy.Matrix([4, 3])\n",
    "\n",
    "print(f\"Rank of A: {A.rank()}\")\n",
    "print(f\"Condition number of A: {A.condition_number()}\")\n",
    "print(f\"Norm of A: {A.norm()}\")"
   ],
   "metadata": {
    "collapsed": false,
    "pycharm": {
     "name": "#%%\n",
     "is_executing": false
    }
   }
  },
  {
   "cell_type": "code",
   "execution_count": 13,
   "outputs": [
    {
     "name": "stdout",
     "text": [
      "Rank of A: 2\n",
      "Condition number of A: 7.582401374401516\n",
      "Norm of A: 7.3484692283495345\n"
     ],
     "output_type": "stream"
    }
   ],
   "source": [
    "# Using Numpy/SciPy\n",
    "A = np.array([\n",
    "    [2, 3],\n",
    "    [5, 4]\n",
    "])\n",
    "b = np.array([4, 3])\n",
    "\n",
    "print(f\"Rank of A: {np.linalg.matrix_rank(A)}\")\n",
    "print(f\"Condition number of A: {np.linalg.cond(A)}\")\n",
    "print(f\"Norm of A: {np.linalg.norm(A)}\")"
   ],
   "metadata": {
    "collapsed": false,
    "pycharm": {
     "name": "#%%\n",
     "is_executing": false
    }
   }
  },
  {
   "cell_type": "markdown",
   "source": [
    "### LU factorization \n",
    "#### In SymPy:"
   ],
   "metadata": {
    "collapsed": false,
    "pycharm": {
     "name": "#%% md\n"
    }
   }
  },
  {
   "cell_type": "code",
   "execution_count": 14,
   "outputs": [
    {
     "name": "stdout",
     "text": [
      "L: Matrix([[1, 0], [5/2, 1]])\n",
      "U: Matrix([[2, 3], [0, -7/2]])\n",
      "L * U: Matrix([[2, 3], [5, 4]])\n",
      "x: Matrix([[-1], [2]])\n"
     ],
     "output_type": "stream"
    }
   ],
   "source": [
    "A = sympy.Matrix([\n",
    "    [2, 3],\n",
    "    [5, 4]\n",
    "])\n",
    "b = sympy.Matrix([4, 3])\n",
    "\n",
    "L, U, _ = A.LUdecomposition()\n",
    "print(f\"L: {L}\")\n",
    "print(f\"U: {U}\")\n",
    "print(f\"L * U: {L * U}\")\n",
    "\n",
    "x = A.solve(b)  # equivalent to A.LUsolve(b)\n",
    "print(f\"x: {x}\")"
   ],
   "metadata": {
    "collapsed": false,
    "pycharm": {
     "name": "#%%\n",
     "is_executing": false
    }
   }
  },
  {
   "cell_type": "code",
   "execution_count": 15,
   "outputs": [
    {
     "name": "stdout",
     "text": [
      "L: \n",
      "[[1.  0. ]\n",
      " [0.4 1. ]]\n",
      "\n",
      "U: \n",
      "[[5.  4. ]\n",
      " [0.  1.4]]\n",
      "\n",
      "P.dot(L.dot(U)): \n",
      "[[2. 3.]\n",
      " [5. 4.]]\n",
      "\n",
      "x: [-1.  2.]\n"
     ],
     "output_type": "stream"
    }
   ],
   "source": [
    "A = np.array([\n",
    "    [2, 3],\n",
    "    [5, 4]\n",
    "])\n",
    "b = np.array([4, 3])\n",
    "\n",
    "P, L, U = la.lu(A)\n",
    "print(f\"L: \\n{L}\\n\")\n",
    "print(f\"U: \\n{U}\\n\")\n",
    "print(f\"P.dot(L.dot(U)): \\n{P.dot(L.dot(U))}\\n\")\n",
    "x = la.solve(A, b)\n",
    "print(f\"x: {x}\")"
   ],
   "metadata": {
    "collapsed": false,
    "pycharm": {
     "name": "#%%\n",
     "is_executing": false
    }
   }
  },
  {
   "cell_type": "markdown",
   "source": [
    "### Rectangular Systems:"
   ],
   "metadata": {
    "collapsed": false,
    "pycharm": {
     "name": "#%% md\n",
     "is_executing": false
    }
   }
  },
  {
   "cell_type": "code",
   "execution_count": 16,
   "outputs": [],
   "source": [
    "# defining true model\n",
    "x = np.linspace(-1, 1, 100)\n",
    "a, b, c = 1, 2, 3\n",
    "y_exact = a + b * x + c * x ** 2"
   ],
   "metadata": {
    "collapsed": false,
    "pycharm": {
     "name": "#%%\n",
     "is_executing": false
    }
   }
  },
  {
   "cell_type": "code",
   "execution_count": 17,
   "outputs": [],
   "source": [
    "# simulate noisy data\n",
    "m = 100\n",
    "X = 1 - 2 * np.random.randn(m)\n",
    "Y = a + b * X  + c * x ** 2 + np.random.randn(m)"
   ],
   "metadata": {
    "collapsed": false,
    "pycharm": {
     "name": "#%%\n",
     "is_executing": false
    }
   }
  },
  {
   "cell_type": "code",
   "execution_count": 18,
   "outputs": [
    {
     "data": {
      "text/plain": "<matplotlib.legend.Legend at 0x7fbf2e4fd040>"
     },
     "metadata": {},
     "output_type": "execute_result",
     "execution_count": 18
    },
    {
     "data": {
      "text/plain": "<Figure size 864x288 with 1 Axes>",
      "image/png": "[encoded data removed]"
     },
     "metadata": {
      "needs_background": "light"
     },
     "output_type": "display_data"
    }
   ],
   "source": [
    "# fit the data to the model using linear least squares\n",
    "A = np.vstack([X**0, x**1, x**2])\n",
    "sol, r, rank, sv = la.lstsq(A.T, Y)\n",
    "\n",
    "y_fit = sol[0] + sol[1] * x + sol[2] * x**2\n",
    "fig, ax = plt.subplots(figsize=(12, 4))\n",
    "\n",
    "ax.plot(X, Y, 'go', alpha=0.5, label='Simulated data')\n",
    "ax.plot(x, y_exact, 'k', lw=2, label='True value $y = 1 + 2x + 3x^2$')\n",
    "ax.plot(x, y_fit, 'b', lw=2, label='Least square fit')\n",
    "ax.set_xlabel(r\"$x$\", fontsize=18)\n",
    "ax.set_ylabel(r\"$y$\", fontsize=18)\n",
    "ax.legend(loc=2)"
   ],
   "metadata": {
    "collapsed": false,
    "pycharm": {
     "name": "#%%\n",
     "is_executing": false
    }
   }
  },
  {
   "cell_type": "code",
   "execution_count": 19,
   "outputs": [
    {
     "data": {
      "text/plain": "<matplotlib.legend.Legend at 0x7fbf2e493f70>"
     },
     "metadata": {},
     "output_type": "execute_result",
     "execution_count": 19
    },
    {
     "data": {
      "text/plain": "<Figure size 864x288 with 1 Axes>",
      "image/png": "[encoded data removed]"
     },
     "metadata": {
      "needs_background": "light"
     },
     "output_type": "display_data"
    }
   ],
   "source": [
    "# fit the data to the model using linear least square:\n",
    "# first order polynomial\n",
    "A = np.vstack([X**n for n in range(2)])\n",
    "sol, r , rank, sv = la.lstsq(A.T, Y)\n",
    "y_fit1 = sum([s * x**n for n, s in enumerate(sol)])\n",
    "\n",
    "# 15th order polynomial\n",
    "A = np.vstack([X**n for n in range(16)])\n",
    "sol, r, rank, sv = la.lstsq(A.T, Y)\n",
    "y_fit15 = sum([s * x**n for n, s in enumerate(sol)])\n",
    "\n",
    "fig, ax = plt.subplots(figsize=(12, 4))\n",
    "ax.plot(X, Y, 'go', alpha=0.5, label='Simulated data')\n",
    "ax.plot(x, y_exact, 'k', lw=2, label='True value $y = 1 + 2x + 3x^2$')\n",
    "ax.plot(x, y_fit1, 'b', lw=2, label='Least square fit [1st order]')\n",
    "ax.plot(x, y_fit15, 'm', lw=2, label='Least square fit [15th order]')\n",
    "ax.set_xlabel(r\"$x$\", fontsize=18)\n",
    "ax.set_ylabel(r\"$y$\", fontsize=18)\n",
    "ax.legend(loc=2)"
   ],
   "metadata": {
    "collapsed": false,
    "pycharm": {
     "name": "#%%\n",
     "is_executing": false
    }
   }
  },
  {
   "cell_type": "markdown",
   "source": [
    "### EigenValue Problems:"
   ],
   "metadata": {
    "collapsed": false,
    "pycharm": {
     "name": "#%% md\n",
     "is_executing": false
    }
   }
  },
  {
   "cell_type": "code",
   "execution_count": 21,
   "outputs": [
    {
     "name": "stdout",
     "text": [
      "e_vals: [13.35310908+0.j -1.75902942+0.j  3.40592034+0.j]\n",
      "\n",
      "e_vecs: \n",
      "[[ 0.42663918  0.90353276 -0.04009445]\n",
      " [ 0.43751227 -0.24498225 -0.8651975 ]\n",
      " [ 0.79155671 -0.35158534  0.49982569]]\n",
      "\n",
      "la.eigvalsh: [-1.75902942  3.40592034 13.35310908]\n"
     ],
     "output_type": "stream"
    }
   ],
   "source": [
    "# Example_01\n",
    "A = np.array([\n",
    "    [1, 3, 5],\n",
    "    [3, 5, 3],\n",
    "    [5, 3, 9]\n",
    "])\n",
    "e_vals, e_vecs = la.eig(A)\n",
    "print(f\"e_vals: {e_vals}\\n\")\n",
    "print(f\"e_vecs: \\n{e_vecs}\\n\")\n",
    "print(f\"la.eigvalsh: {la.eigvalsh(A)}\")"
   ],
   "metadata": {
    "collapsed": false,
    "pycharm": {
     "name": "#%%\n",
     "is_executing": false
    }
   }
  },
  {
   "cell_type": "markdown",
   "source": [
    "### Non-Linear Equations:"
   ],
   "metadata": {
    "collapsed": false,
    "pycharm": {
     "name": "#%% md\n"
    }
   }
  },
  {
   "cell_type": "code",
   "execution_count": null,
   "outputs": [],
   "source": [
    "\n"
   ],
   "metadata": {
    "collapsed": false,
    "pycharm": {
     "name": "#%%\n"
    }
   }
  }
 ]
}