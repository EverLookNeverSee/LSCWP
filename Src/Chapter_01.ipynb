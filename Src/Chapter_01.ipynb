{
 "cells": [
  {
   "cell_type": "markdown",
   "metadata": {
    "collapsed": true,
    "pycharm": {
     "is_executing": false,
     "name": "#%% md\n"
    }
   },
   "source": [
    "## Chapter_01:  Vectors, Matrices and Multidimensional Arrays\n",
    "\n",
    "### Importing the modules:"
   ]
  },
  {
   "cell_type": "code",
   "execution_count": 1,
   "metadata": {},
   "outputs": [],
   "source": [
    "import numpy as np"
   ]
  },
  {
   "cell_type": "markdown",
   "metadata": {
    "pycharm": {
     "is_executing": false,
     "name": "#%% md\n"
    }
   },
   "source": [
    "### The numpy array object:"
   ]
  },
  {
   "cell_type": "code",
   "execution_count": 2,
   "metadata": {},
   "outputs": [
    {
     "name": "stdout",
     "output_type": "stream",
     "text": "s a \"convenience\" alternative to the tuple form)\n |      \n |      Returns\n |      -------\n |      out : ndarray\n |          View of `a`, with axes suitably permuted.\n |      \n |      See Also\n |      --------\n |      ndarray.T : Array property returning the array transposed.\n |      ndarray.reshape : Give a new shape to an array without changing its data.\n |      \n |      Examples\n |      --------\n |      >>> a = np.array([[1, 2], [3, 4]])\n |      >>> a\n |      array([[1, 2],\n |             [3, 4]])\n |      >>> a.transpose()\n |      array([[1, 3],\n |             [2, 4]])\n |      >>> a.transpose((1, 0))\n |      array([[1, 3],\n |             [2, 4]])\n |      >>> a.transpose(1, 0)\n |      array([[1, 3],\n |             [2, 4]])\n |  \n |  var(...)\n |      a.var(axis=None, dtype=None, out=None, ddof=0, keepdims=False)\n |      \n |      Returns the variance of the array elements, along given axis.\n |      \n |      Refer to `numpy.var` for full documentation.\n |      \n |      See Also\n |      --------\n |      numpy.var : equivalent function\n |  \n |  view(...)\n |      a.view(dtype=None, type=None)\n |      \n |      New view of array with the same data.\n |      \n |      Parameters\n |      ----------\n |      dtype : data-type or ndarray sub-class, optional\n |          Data-type descriptor of the returned view, e.g., float32 or int16. The\n |          default, None, results in the view having the same data-type as `a`.\n |          This argument can also be specified as an ndarray sub-class, which\n |          then specifies the type of the returned object (this is equivalent to\n |          setting the ``type`` parameter).\n |      type : Python type, optional\n |          Type of the returned view, e.g., ndarray or matrix.  Again, the\n |          default None results in type preservation.\n |      \n |      Notes\n |      -----\n |      ``a.view()`` is used two different ways:\n |      \n |      ``a.view(some_dtype)`` or ``a.view(dtype=some_dtype)`` constructs a view\n |      of the array's memory with a different data-type.  This can cause a\n |      reinterpretation of the bytes of memory.\n |      \n |      ``a.view(ndarray_subclass)`` or ``a.view(type=ndarray_subclass)`` just\n |      returns an instance of `ndarray_subclass` that looks at the same array\n |      (same shape, dtype, etc.)  This does not cause a reinterpretation of the\n |      memory.\n |      \n |      For ``a.view(some_dtype)``, if ``some_dtype`` has a different number of\n |      bytes per entry than the previous dtype (for example, converting a\n |      regular array to a structured array), then the behavior of the view\n |      cannot be predicted just from the superficial appearance of ``a`` (shown\n |      by ``print(a)``). It also depends on exactly how ``a`` is stored in\n |      memory. Therefore if ``a`` is C-ordered versus fortran-ordered, versus\n |      defined as a slice or transpose, etc., the view may give different\n |      results.\n |      \n |      \n |      Examples\n |      --------\n |      >>> x = np.array([(1, 2)], dtype=[('a', np.int8), ('b', np.int8)])\n |      \n |      Viewing array data using a different type and dtype:\n |      \n |      >>> y = x.view(dtype=np.int16, type=np.matrix)\n |      >>> y\n |      matrix([[513]], dtype=int16)\n |      >>> print(type(y))\n |      <class 'numpy.matrix'>\n |      \n |      Creating a view on a structured array so it can be used in calculations\n |      \n |      >>> x = np.array([(1, 2),(3,4)], dtype=[('a', np.int8), ('b', np.int8)])\n |      >>> xv = x.view(dtype=np.int8).reshape(-1,2)\n |      >>> xv\n |      array([[1, 2],\n |             [3, 4]], dtype=int8)\n |      >>> xv.mean(0)\n |      array([2.,  3.])\n |      \n |      Making changes to the view changes the underlying array\n |      \n |      >>> xv[0,1] = 20\n |      >>> x\n |      array([(1, 20), (3,  4)], dtype=[('a', 'i1'), ('b', 'i1')])\n |      \n |      Using a view to convert an array to a recarray:\n |      \n |      >>> z = x.view(np.recarray)\n |      >>> z.a\n |      array([1, 3], dtype=int8)\n |      \n |      Views share data:\n |      \n |      >>> x[0] = (9, 10)\n |      >>> z[0]\n |      (9, 10)\n |      \n |      Views that change the dtype size (bytes per entry) should normally be\n |      avoided on arrays defined by slices, transposes, fortran-ordering, etc.:\n |      \n |      >>> x = np.array([[1,2,3],[4,5,6]], dtype=np.int16)\n |      >>> y = x[:, 0:2]\n |      >>> y\n |      array([[1, 2],\n |             [4, 5]], dtype=int16)\n |      >>> y.view(dtype=[('width', np.int16), ('length', np.int16)])\n |      Traceback (most recent call last):\n |          ...\n |      ValueError: To change to a dtype of a different size, the array must be C-contiguous\n |      >>> z = y.copy()\n |      >>> z.view(dtype=[('width', np.int16), ('length', np.int16)])\n |      array([[(1, 2)],\n |             [(4, 5)]], dtype=[('width', '<i2'), ('length', '<i2')])\n |  \n |  ----------------------------------------------------------------------\n |  Static methods defined here:\n |  \n |  __new__(*args, **kwargs) from builtins.type\n |      Create and return a new object.  See help(type) for accurate signature.\n |  \n |  ----------------------------------------------------------------------\n |  Data descriptors defined here:\n |  \n |  T\n |      The transposed array.\n |      \n |      Same as ``self.transpose()``.\n |      \n |      Examples\n |      --------\n |      >>> x = np.array([[1.,2.],[3.,4.]])\n |      >>> x\n |      array([[ 1.,  2.],\n |             [ 3.,  4.]])\n |      >>> x.T\n |      array([[ 1.,  3.],\n |             [ 2.,  4.]])\n |      >>> x = np.array([1.,2.,3.,4.])\n |      >>> x\n |      array([ 1.,  2.,  3.,  4.])\n |      >>> x.T\n |      array([ 1.,  2.,  3.,  4.])\n |      \n |      See Also\n |      --------\n |      transpose\n |  \n |  __array_finalize__\n |      None.\n |  \n |  __array_interface__\n |      Array protocol: Python side.\n |  \n |  __array_priority__\n |      Array priority.\n |  \n |  __array_struct__\n |      Array protocol: C-struct side.\n |  \n |  base\n |      Base object if memory is from some other object.\n |      \n |      Examples\n |      --------\n |      The base of an array that owns its memory is None:\n |      \n |      >>> x = np.array([1,2,3,4])\n |      >>> x.base is None\n |      True\n |      \n |      Slicing creates a view, whose memory is shared with x:\n |      \n |      >>> y = x[2:]\n |      >>> y.base is x\n |      True\n |  \n |  ctypes\n |      An object to simplify the interaction of the array with the ctypes\n |      module.\n |      \n |      This attribute creates an object that makes it easier to use arrays\n |      when calling shared libraries with the ctypes module. The returned\n |      object has, among others, data, shape, and strides attributes (see\n |      Notes below) which themselves return ctypes objects that can be used\n |      as arguments to a shared library.\n |      \n |      Parameters\n |      ----------\n |      None\n |      \n |      Returns\n |      -------\n |      c : Python object\n |          Possessing attributes data, shape, strides, etc.\n |      \n |      See Also\n |      --------\n |      numpy.ctypeslib\n |      \n |      Notes\n |      -----\n |      Below are the public attributes of this object which were documented\n |      in \"Guide to NumPy\" (we have omitted undocumented public attributes,\n |      as well as documented private attributes):\n |      \n |      .. autoattribute:: numpy.core._internal._ctypes.data\n |          :noindex:\n |      \n |      .. autoattribute:: numpy.core._internal._ctypes.shape\n |          :noindex:\n |      \n |      .. autoattribute:: numpy.core._internal._ctypes.strides\n |          :noindex:\n |      \n |      .. automethod:: numpy.core._internal._ctypes.data_as\n |          :noindex:\n |      \n |      .. automethod:: numpy.core._internal._ctypes.shape_as\n |          :noindex:\n |      \n |      .. automethod:: numpy.core._internal._ctypes.strides_as\n |          :noindex:\n |      \n |      If the ctypes module is not available, then the ctypes attribute\n |      of array objects still returns something useful, but ctypes objects\n |      are not returned and errors may be raised instead. In particular,\n |      the object will still have the ``as_parameter`` attribute which will\n |      return an integer equal to the data attribute.\n |      \n |      Examples\n |      --------\n |      >>> import ctypes\n |      >>> x\n |      array([[0, 1],\n |             [2, 3]])\n |      >>> x.ctypes.data\n |      30439712\n |      >>> x.ctypes.data_as(ctypes.POINTER(ctypes.c_long))\n |      <ctypes.LP_c_long object at 0x01F01300>\n |      >>> x.ctypes.data_as(ctypes.POINTER(ctypes.c_long)).contents\n |      c_long(0)\n |      >>> x.ctypes.data_as(ctypes.POINTER(ctypes.c_longlong)).contents\n |      c_longlong(4294967296L)\n |      >>> x.ctypes.shape\n |      <numpy.core._internal.c_long_Array_2 object at 0x01FFD580>\n |      >>> x.ctypes.shape_as(ctypes.c_long)\n |      <numpy.core._internal.c_long_Array_2 object at 0x01FCE620>\n |      >>> x.ctypes.strides\n |      <numpy.core._internal.c_long_Array_2 object at 0x01FCE620>\n |      >>> x.ctypes.strides_as(ctypes.c_longlong)\n |      <numpy.core._internal.c_longlong_Array_2 object at 0x01F01300>\n |  \n |  data\n |      Python buffer object pointing to the start of the array's data.\n |  \n |  dtype\n |      Data-type of the array's elements.\n |      \n |      Parameters\n |      ----------\n |      None\n |      \n |      Returns\n |      -------\n |      d : numpy dtype object\n |      \n |      See Also\n |      --------\n |      numpy.dtype\n |      \n |      Examples\n |      --------\n |      >>> x\n |      array([[0, 1],\n |             [2, 3]])\n |      >>> x.dtype\n |      dtype('int32')\n |      >>> type(x.dtype)\n |      <type 'numpy.dtype'>\n |  \n |  flags\n |      Information about the memory layout of the array.\n |      \n |      Attributes\n |      ----------\n |      C_CONTIGUOUS (C)\n |          The data is in a single, C-style contiguous segment.\n |      F_CONTIGUOUS (F)\n |          The data is in a single, Fortran-style contiguous segment.\n |      OWNDATA (O)\n |          The array owns the memory it uses or borrows it from another object.\n |      WRITEABLE (W)\n |          The data area can be written to.  Setting this to False locks\n |          the data, making it read-only.  A view (slice, etc.) inherits WRITEABLE\n |          from its base array at creation time, but a view of a writeable\n |          array may be subsequently locked while the base array remains writeable.\n |          (The opposite is not true, in that a view of a locked array may not\n |          be made writeable.  However, currently, locking a base object does not\n |          lock any views that already reference it, so under that circumstance it\n |          is possible to alter the contents of a locked array via a previously\n |          created writeable view onto it.)  Attempting to change a non-writeable\n |          array raises a RuntimeError exception.\n |      ALIGNED (A)\n |          The data and all elements are aligned appropriately for the hardware.\n |      WRITEBACKIFCOPY (X)\n |          This array is a copy of some other array. The C-API function\n |          PyArray_ResolveWritebackIfCopy must be called before deallocating\n |          to the base array will be updated with the contents of this array.\n |      UPDATEIFCOPY (U)\n |          (Deprecated, use WRITEBACKIFCOPY) This array is a copy of some other array.\n |          When this array is\n |          deallocated, the base array will be updated with the contents of\n |          this array.\n |      FNC\n |          F_CONTIGUOUS and not C_CONTIGUOUS.\n |      FORC\n |          F_CONTIGUOUS or C_CONTIGUOUS (one-segment test).\n |      BEHAVED (B)\n |          ALIGNED and WRITEABLE.\n |      CARRAY (CA)\n |          BEHAVED and C_CONTIGUOUS.\n |      FARRAY (FA)\n |          BEHAVED and F_CONTIGUOUS and not C_CONTIGUOUS.\n |      \n |      Notes\n |      -----\n |      The `flags` object can be accessed dictionary-like (as in ``a.flags['WRITEABLE']``),\n |      or by using lowercased attribute names (as in ``a.flags.writeable``). Short flag\n |      names are only supported in dictionary access.\n |      \n |      Only the WRITEBACKIFCOPY, UPDATEIFCOPY, WRITEABLE, and ALIGNED flags can be\n |      changed by the user, via direct assignment to the attribute or dictionary\n |      entry, or by calling `ndarray.setflags`.\n |      \n |      The array flags cannot be set arbitrarily:\n |      \n |      - UPDATEIFCOPY can only be set ``False``.\n |      - WRITEBACKIFCOPY can only be set ``False``.\n |      - ALIGNED can only be set ``True`` if the data is truly aligned.\n |      - WRITEABLE can only be set ``True`` if the array owns its own memory\n |        or the ultimate owner of the memory exposes a writeable buffer\n |        interface or is a string.\n |      \n |      Arrays can be both C-style and Fortran-style contiguous simultaneously.\n |      This is clear for 1-dimensional arrays, but can also be true for higher\n |      dimensional arrays.\n |      \n |      Even for contiguous arrays a stride for a given dimension\n |      ``arr.strides[dim]`` may be *arbitrary* if ``arr.shape[dim] == 1``\n |      or the array has no elements.\n |      It does *not* generally hold that ``self.strides[-1] == self.itemsize``\n |      for C-style contiguous arrays or ``self.strides[0] == self.itemsize`` for\n |      Fortran-style contiguous arrays is true.\n |  \n |  flat\n |      A 1-D iterator over the array.\n |      \n |      This is a `numpy.flatiter` instance, which acts similarly to, but is not\n |      a subclass of, Python's built-in iterator object.\n |      \n |      See Also\n |      --------\n |      flatten : Return a copy of the array collapsed into one dimension.\n |      \n |      flatiter\n |      \n |      Examples\n |      --------\n |      >>> x = np.arange(1, 7).reshape(2, 3)\n |      >>> x\n |      array([[1, 2, 3],\n |             [4, 5, 6]])\n |      >>> x.flat[3]\n |      4\n |      >>> x.T\n |      array([[1, 4],\n |             [2, 5],\n |             [3, 6]])\n |      >>> x.T.flat[3]\n |      5\n |      >>> type(x.flat)\n |      <class 'numpy.flatiter'>\n |      \n |      An assignment example:\n |      \n |      >>> x.flat = 3; x\n |      array([[3, 3, 3],\n |             [3, 3, 3]])\n |      >>> x.flat[[1,4]] = 1; x\n |      array([[3, 1, 3],\n |             [3, 1, 3]])\n |  \n |  imag\n |      The imaginary part of the array.\n |      \n |      Examples\n |      --------\n |      >>> x = np.sqrt([1+0j, 0+1j])\n |      >>> x.imag\n |      array([ 0.        ,  0.70710678])\n |      >>> x.imag.dtype\n |      dtype('float64')\n |  \n |  itemsize\n |      Length of one array element in bytes.\n |      \n |      Examples\n |      --------\n |      >>> x = np.array([1,2,3], dtype=np.float64)\n |      >>> x.itemsize\n |      8\n |      >>> x = np.array([1,2,3], dtype=np.complex128)\n |      >>> x.itemsize\n |      16\n |  \n |  nbytes\n |      Total bytes consumed by the elements of the array.\n |      \n |      Notes\n |      -----\n |      Does not include memory consumed by non-element attributes of the\n |      array object.\n |      \n |      Examples\n |      --------\n |      >>> x = np.zeros((3,5,2), dtype=np.complex128)\n |      >>> x.nbytes\n |      480\n |      >>> np.prod(x.shape) * x.itemsize\n |      480\n |  \n |  ndim\n |      Number of array dimensions.\n |      \n |      Examples\n |      --------\n |      >>> x = np.array([1, 2, 3])\n |      >>> x.ndim\n |      1\n |      >>> y = np.zeros((2, 3, 4))\n |      >>> y.ndim\n |      3\n |  \n |  real\n |      The real part of the array.\n |      \n |      Examples\n |      --------\n |      >>> x = np.sqrt([1+0j, 0+1j])\n |      >>> x.real\n |      array([ 1.        ,  0.70710678])\n |      >>> x.real.dtype\n |      dtype('float64')\n |      \n |      See Also\n |      --------\n |      numpy.real : equivalent function\n |  \n |  shape\n |      Tuple of array dimensions.\n |      \n |      The shape property is usually used to get the current shape of an array,\n |      but may also be used to reshape the array in-place by assigning a tuple of\n |      array dimensions to it.  As with `numpy.reshape`, one of the new shape\n |      dimensions can be -1, in which case its value is inferred from the size of\n |      the array and the remaining dimensions. Reshaping an array in-place will\n |      fail if a copy is required.\n |      \n |      Examples\n |      --------\n |      >>> x = np.array([1, 2, 3, 4])\n |      >>> x.shape\n |      (4,)\n |      >>> y = np.zeros((2, 3, 4))\n |      >>> y.shape\n |      (2, 3, 4)\n |      >>> y.shape = (3, 8)\n |      >>> y\n |      array([[ 0.,  0.,  0.,  0.,  0.,  0.,  0.,  0.],\n |             [ 0.,  0.,  0.,  0.,  0.,  0.,  0.,  0.],\n |             [ 0.,  0.,  0.,  0.,  0.,  0.,  0.,  0.]])\n |      >>> y.shape = (3, 6)\n |      Traceback (most recent call last):\n |        File \"<stdin>\", line 1, in <module>\n |      ValueError: total size of new array must be unchanged\n |      >>> np.zeros((4,2))[::2].shape = (-1,)\n |      Traceback (most recent call last):\n |        File \"<stdin>\", line 1, in <module>\n |      AttributeError: incompatible shape for a non-contiguous array\n |      \n |      See Also\n |      --------\n |      numpy.reshape : similar function\n |      ndarray.reshape : similar method\n |  \n |  size\n |      Number of elements in the array.\n |      \n |      Equal to ``np.prod(a.shape)``, i.e., the product of the array's\n |      dimensions.\n |      \n |      Notes\n |      -----\n |      `a.size` returns a standard arbitrary precision Python integer. This\n |      may not be the case with other methods of obtaining the same value\n |      (like the suggested ``np.prod(a.shape)``, which returns an instance\n |      of ``np.int_``), and may be relevant if the value is used further in\n |      calculations that may overflow a fixed size integer type.\n |      \n |      Examples\n |      --------\n |      >>> x = np.zeros((3, 5, 2), dtype=np.complex128)\n |      >>> x.size\n |      30\n |      >>> np.prod(x.shape)\n |      30\n |  \n |  strides\n |      Tuple of bytes to step in each dimension when traversing an array.\n |      \n |      The byte offset of element ``(i[0], i[1], ..., i[n])`` in an array `a`\n |      is::\n |      \n |          offset = sum(np.array(i) * a.strides)\n |      \n |      A more detailed explanation of strides can be found in the\n |      \"ndarray.rst\" file in the NumPy reference guide.\n |      \n |      Notes\n |      -----\n |      Imagine an array of 32-bit integers (each 4 bytes)::\n |      \n |        x = np.array([[0, 1, 2, 3, 4],\n |                      [5, 6, 7, 8, 9]], dtype=np.int32)\n |      \n |      This array is stored in memory as 40 bytes, one after the other\n |      (known as a contiguous block of memory).  The strides of an array tell\n |      us how many bytes we have to skip in memory to move to the next position\n |      along a certain axis.  For example, we have to skip 4 bytes (1 value) to\n |      move to the next column, but 20 bytes (5 values) to get to the same\n |      position in the next row.  As such, the strides for the array `x` will be\n |      ``(20, 4)``.\n |      \n |      See Also\n |      --------\n |      numpy.lib.stride_tricks.as_strided\n |      \n |      Examples\n |      --------\n |      >>> y = np.reshape(np.arange(2*3*4), (2,3,4))\n |      >>> y\n |      array([[[ 0,  1,  2,  3],\n |              [ 4,  5,  6,  7],\n |              [ 8,  9, 10, 11]],\n |             [[12, 13, 14, 15],\n |              [16, 17, 18, 19],\n |              [20, 21, 22, 23]]])\n |      >>> y.strides\n |      (48, 16, 4)\n |      >>> y[1,1,1]\n |      17\n |      >>> offset=sum(y.strides * np.array((1,1,1)))\n |      >>> offset/y.itemsize\n |      17\n |      \n |      >>> x = np.reshape(np.arange(5*6*7*8), (5,6,7,8)).transpose(2,3,1,0)\n |      >>> x.strides\n |      (32, 4, 224, 1344)\n |      >>> i = np.array([3,5,2,2])\n |      >>> offset = sum(i * x.strides)\n |      >>> x[3,5,2,2]\n |      813\n |      >>> offset / x.itemsize\n |      813\n |  \n |  ----------------------------------------------------------------------\n |  Data and other attributes defined here:\n |  \n |  __hash__ = None\n\n"
    }
   ],
   "source": [
    "help(np.ndarray)"
   ]
  },
  {
   "cell_type": "code",
   "execution_count": 3,
   "metadata": {},
   "outputs": [
    {
     "name": "stdout",
     "output_type": "stream",
     "text": "type(data): <class 'numpy.ndarray'>\n\ndata: \n[[1 2]\n [3 4]\n [5 6]]\n\ndata.ndim: 2\n\ndata.shape: (3, 2)\n\ndata.size: 6\n\ndata.dtype: int64\n\ndata.nbytes: 48\n\n"
    }
   ],
   "source": [
    "# Example_1\n",
    "\n",
    "data = np.array([\n",
    "    [1, 2],\n",
    "    [3, 4],\n",
    "    [5, 6]\n",
    "])\n",
    "print(f\"type(data): {type(data)}\\n\")\n",
    "print(f\"data: \\n{data}\\n\")\n",
    "print(f\"data.ndim: {data.ndim}\\n\")\n",
    "print(f\"data.shape: {data.shape}\\n\")\n",
    "print(f\"data.size: {data.size}\\n\")\n",
    "print(f\"data.dtype: {data.dtype}\\n\")\n",
    "print(f\"data.nbytes: {data.nbytes}\\n\")"
   ]
  },
  {
   "cell_type": "markdown",
   "metadata": {
    "pycharm": {
     "name": "#%% md\n"
    }
   },
   "source": [
    "### Data types:"
   ]
  },
  {
   "cell_type": "code",
   "execution_count": 4,
   "metadata": {},
   "outputs": [
    {
     "name": "stdout",
     "output_type": "stream",
     "text": "int dtype: [1 2 3]\n\nfloat dtype: [1. 2. 3.]\n\ncomplex dtype: [1.+0.j 2.+0.j 3.+0.j]\n\n"
    }
   ],
   "source": [
    "# Example_2\n",
    "\n",
    "print(f\"int dtype: {np.array([1, 2, 3], dtype=np.int)}\\n\")\n",
    "print(f\"float dtype: {np.array([1, 2, 3], dtype=np.float)}\\n\")\n",
    "print(f\"complex dtype: {np.array([1, 2, 3], dtype=np.complex)}\\n\")"
   ]
  },
  {
   "cell_type": "code",
   "execution_count": 5,
   "metadata": {},
   "outputs": [
    {
     "name": "stdout",
     "output_type": "stream",
     "text": "data: [1. 2. 3.]\ndata.dtype: float64\n\ndata,dtype: int64\ndata: [1 2 3]\n"
    }
   ],
   "source": [
    "# Typecasting an array is straightforward and\n",
    "# can be done using either the np.array function:\n",
    "# Example_3:\n",
    "\n",
    "data = np.array([1, 2, 3], dtype=np.float)\n",
    "print(f\"data: {data}\")\n",
    "print(f\"data.dtype: {data.dtype}\\n\")\n",
    "\n",
    "data = np.array(data, dtype=np.int)\n",
    "print(f\"data,dtype: {data.dtype}\")\n",
    "print(f\"data: {data}\")"
   ]
  },
  {
   "cell_type": "code",
   "execution_count": 6,
   "metadata": {},
   "outputs": [
    {
     "name": "stdout",
     "output_type": "stream",
     "text": "data: [1. 2. 3.]\ndata: [1 2 3]\n"
    }
   ],
   "source": [
    "# or by using the astype method of the ndarray class:\n",
    "# astype ---> Copy of the array, cast to a specified type.\n",
    "# Example_4:\n",
    "\n",
    "data = np.array([1, 2, 3], dtype=np.float)\n",
    "print(f\"data: {data}\")\n",
    "\n",
    "data = data.astype(np.int)\n",
    "print(f\"data: {data}\")"
   ]
  },
  {
   "cell_type": "code",
   "execution_count": 7,
   "metadata": {},
   "outputs": [
    {
     "name": "stdout",
     "output_type": "stream",
     "text": "d3: [2.+0.j 4.+0.j 6.+0.j]\nd3.dtype: complex128\n"
    }
   ],
   "source": [
    "# When computing with NumPy arrays, the data type might get promoted from one\n",
    "# type to another, if required by the operation\n",
    "# Example_5\n",
    "\n",
    "d1 = np.array([1, 2, 3], dtype=float)\n",
    "d2 = np.array([1, 2, 3], dtype=complex)\n",
    "\n",
    "d3 = d1 + d2\n",
    "print(f\"d3: {d3}\")\n",
    "print(f\"d3.dtype: {d3.dtype}\")"
   ]
  },
  {
   "cell_type": "code",
   "execution_count": 8,
   "metadata": {},
   "outputs": [
    {
     "data": {
      "text/plain": "array([0.+1.j, 0.+0.j, 1.+0.j])"
     },
     "execution_count": 8,
     "metadata": {},
     "output_type": "execute_result"
    }
   ],
   "source": [
    "# In some cases, depending on the application and its requirements, it is essential to\n",
    "# create arrays with data type appropriately set to\n",
    "# Example_6\n",
    "\n",
    "# this raises a warning\n",
    "np.sqrt(np.array([-1, 0, 1]))\n",
    "\n",
    "# this is correct\n",
    "np.sqrt(np.array([-1, 0, 1], dtype=complex))"
   ]
  },
  {
   "cell_type": "markdown",
   "metadata": {
    "pycharm": {
     "name": "#%% md\n"
    }
   },
   "source": [
    "### real and imaginary parts:"
   ]
  },
  {
   "cell_type": "code",
   "execution_count": 10,
   "metadata": {},
   "outputs": [
    {
     "name": "stdout",
     "output_type": "stream",
     "text": "data: [1.+0.j 2.+0.j 3.+0.j]\n\ndata.real: [1. 2. 3.]\n\ndata.img: [0. 0. 0.]\n"
    }
   ],
   "source": [
    "# Example_7\n",
    "\n",
    "data = np.array([1, 2, 3], dtype=complex)\n",
    "print(f\"data: {data}\\n\")\n",
    "print(f\"data.real: {data.real}\\n\")\n",
    "print(f\"data.img: {data.imag}\")"
   ]
  },
  {
   "cell_type": "markdown",
   "metadata": {
    "pycharm": {
     "is_executing": false,
     "name": "#%% md\n"
    }
   },
   "source": [
    "### Creating Arrays:\n",
    "\n",
    "### Arrays Created from Lists and Other Array-Like Objects:"
   ]
  },
  {
   "cell_type": "code",
   "execution_count": 9,
   "metadata": {},
   "outputs": [
    {
     "name": "stdout",
     "output_type": "stream",
     "text": "data: [1 2 3 4]\n\ndata.ndim: 1\n\ndata.shape: (4,)\n"
    }
   ],
   "source": [
    "# Example_8\n",
    "# Creating 1-Dimensional Array\n",
    "data = np.array([1, 2, 3, 4])\n",
    "print(f\"data: {data}\\n\")\n",
    "print(f\"data.ndim: {data.ndim}\\n\")\n",
    "print(f\"data.shape: {data.shape}\")"
   ]
  },
  {
   "cell_type": "code",
   "execution_count": 11,
   "metadata": {},
   "outputs": [
    {
     "name": "stdout",
     "output_type": "stream",
     "text": "data: \n[[1 2]\n [3 4]]\n\ndata.ndim: 2\n\ndata.shape: (2, 2)\n"
    }
   ],
   "source": [
    "# Example_9\n",
    "# Creating 2-Dimensional Array\n",
    "data = np.array([\n",
    "    [1, 2],\n",
    "    [3, 4]\n",
    "])\n",
    "print(f\"data: \\n{data}\\n\")\n",
    "print(f\"data.ndim: {data.ndim}\\n\")\n",
    "print(f\"data.shape: {data.shape}\")"
   ]
  },
  {
   "cell_type": "markdown",
   "metadata": {
    "pycharm": {
     "name": "#%% md\n"
    }
   },
   "source": [
    "### Arrays filled with constant values:"
   ]
  },
  {
   "cell_type": "code",
   "execution_count": 12,
   "metadata": {},
   "outputs": [
    {
     "name": "stdout",
     "output_type": "stream",
     "text": "data: \n[[0. 0. 0.]\n [0. 0. 0.]]\n"
    }
   ],
   "source": [
    "# Example_10\n",
    "# np.zeros():\n",
    "\n",
    "data = np.zeros((2, 3))\n",
    "print(f\"data: \\n{data}\")"
   ]
  },
  {
   "cell_type": "code",
   "execution_count": 13,
   "metadata": {},
   "outputs": [
    {
     "name": "stdout",
     "output_type": "stream",
     "text": "data: [1. 1. 1. 1.]\n\ndata.dtype: float64\n\ndata.dtype: int64\n\n"
    }
   ],
   "source": [
    "# Example_11\n",
    "# np.ones():\n",
    "\n",
    "data = np.ones(4)\n",
    "print(f\"data: {data}\\n\")\n",
    "print(f\"data.dtype: {data.dtype}\\n\")\n",
    "\n",
    "data = np.ones(4, dtype=np.int)\n",
    "print(f\"data.dtype: {data.dtype}\\n\")"
   ]
  },
  {
   "cell_type": "code",
   "execution_count": 14,
   "metadata": {},
   "outputs": [
    {
     "name": "stdout",
     "output_type": "stream",
     "text": "x1: [5.4 5.4 5.4 5.4 5.4 5.4 5.4 5.4 5.4 5.4]\n\nx2: [5.4 5.4 5.4 5.4 5.4 5.4 5.4 5.4 5.4 5.4]\n\n"
    }
   ],
   "source": [
    "# Example_12\n",
    "# np.full():\n",
    "\n",
    "x1 = 5.4 * np.ones(10)\n",
    "x2 = np.full(10, 5.4)\n",
    "\n",
    "print(f\"x1: {x1}\\n\")\n",
    "print(f\"x2: {x2}\\n\")"
   ]
  },
  {
   "cell_type": "code",
   "execution_count": 15,
   "metadata": {},
   "outputs": [
    {
     "name": "stdout",
     "output_type": "stream",
     "text": "x1: [3. 3. 3. 3. 3.]\n\nx2: [3. 3. 3. 3. 3.]\n"
    }
   ],
   "source": [
    "# Example_13\n",
    "\n",
    "x1 = np.empty(5)\n",
    "x1.fill(3.0)\n",
    "print(f\"x1: {x1}\\n\")\n",
    "\n",
    "x2 = np.full(5, 3.0)\n",
    "print(f\"x2: {x2}\")"
   ]
  },
  {
   "cell_type": "markdown",
   "metadata": {
    "pycharm": {
     "name": "#%% md\n"
    }
   },
   "source": [
    "### Arrays Filled with Incremental Sequences:"
   ]
  },
  {
   "cell_type": "code",
   "execution_count": 16,
   "metadata": {},
   "outputs": [
    {
     "name": "stdout",
     "output_type": "stream",
     "text": "x1: [0. 1. 2. 3. 4. 5. 6. 7. 8. 9.]\n\nx2: [ 0.  1.  2.  3.  4.  5.  6.  7.  8.  9. 10.]\n\nx3: [0. 1. 2. 3. 4. 5. 6. 7. 8. 9.]\n"
    }
   ],
   "source": [
    "# Example_14\n",
    "\n",
    "x1 = np.arange(0.0, 10, 1)\n",
    "print(f\"x1: {x1}\\n\")\n",
    "\n",
    "x2 = np.linspace(0, 10, 11)\n",
    "print(f\"x2: {x2}\\n\")\n",
    "\n",
    "x3 = np.linspace(0, 10, 10, endpoint=False)\n",
    "print(f\"x3: {x3}\")"
   ]
  },
  {
   "cell_type": "markdown",
   "metadata": {
    "pycharm": {
     "is_executing": false,
     "name": "#%% md\n"
    }
   },
   "source": [
    "### Arrays Filled with Logarithmic Sequences:"
   ]
  },
  {
   "cell_type": "code",
   "execution_count": 17,
   "metadata": {},
   "outputs": [
    {
     "name": "stdout",
     "output_type": "stream",
     "text": "x: [  1.           3.16227766  10.          31.6227766  100.        ]\n"
    }
   ],
   "source": [
    "# Example_15\n",
    "\n",
    "x = np.logspace(0, 2, 5)    # # 5 data points between 10**0=1 to 10**2=100\n",
    "print(f\"x: {x}\")"
   ]
  },
  {
   "cell_type": "markdown",
   "metadata": {
    "pycharm": {
     "name": "#%% md\n"
    }
   },
   "source": [
    "### Meshgrid Arrays:"
   ]
  },
  {
   "cell_type": "code",
   "execution_count": 18,
   "metadata": {},
   "outputs": [
    {
     "name": "stdout",
     "output_type": "stream",
     "text": "X: \n[[-1  0  1]\n [-1  0  1]\n [-1  0  1]]\n\nY: \n[[-2 -2 -2]\n [ 0  0  0]\n [ 2  2  2]]\n"
    }
   ],
   "source": [
    "# Example_16\n",
    "\n",
    "x = np.array([-1, 0, 1])\n",
    "y = np.array([-2, 0, 2])\n",
    "\n",
    "X, Y = np.meshgrid(x, y)\n",
    "\n",
    "print(f\"X: \\n{X}\\n\")\n",
    "print(f\"Y: \\n{Y}\")"
   ]
  },
  {
   "cell_type": "code",
   "execution_count": 19,
   "metadata": {},
   "outputs": [
    {
     "name": "stdout",
     "output_type": "stream",
     "text": "Z: \n[[9 4 1]\n [1 0 1]\n [1 4 9]]\n"
    }
   ],
   "source": [
    "# Example_17\n",
    "\n",
    "Z = (X + Y) ** 2\n",
    "print(f\"Z: \\n{Z}\")"
   ]
  },
  {
   "cell_type": "markdown",
   "metadata": {
    "pycharm": {
     "name": "#%% md\n"
    }
   },
   "source": [
    "### Creating Uninitialized Arrays:"
   ]
  },
  {
   "cell_type": "code",
   "execution_count": 20,
   "metadata": {},
   "outputs": [
    {
     "name": "stdout",
     "output_type": "stream",
     "text": "x: [1. 2. 3.]\n"
    }
   ],
   "source": [
    "# Example_18\n",
    "\n",
    "x = np.empty(3, dtype=np.float)\n",
    "print(f\"x: {x}\")"
   ]
  },
  {
   "cell_type": "markdown",
   "metadata": {
    "pycharm": {
     "name": "#%% md\n"
    }
   },
   "source": [
    "### Creating Arrays with Properties of Other Arrays:"
   ]
  },
  {
   "cell_type": "code",
   "execution_count": 21,
   "metadata": {},
   "outputs": [
    {
     "name": "stdout",
     "output_type": "stream",
     "text": "new: \n[[1 1 1]\n [1 1 1]\n [1 1 1]]\n"
    }
   ],
   "source": [
    "# Example_19\n",
    "\n",
    "def f(a):\n",
    "    y = np.ones_like(a)\n",
    "    return y\n",
    "\n",
    "\n",
    "# testing\n",
    "x = np.array([\n",
    "    [1, 2, 3],\n",
    "    [4, 5, 6],\n",
    "    [7, 8, 9]\n",
    "])\n",
    "\n",
    "new = f(x)\n",
    "print(f\"new: \\n{new}\")"
   ]
  },
  {
   "cell_type": "markdown",
   "metadata": {
    "pycharm": {
     "is_executing": false,
     "name": "#%% md\n"
    }
   },
   "source": [
    "### Creating Matrix Arrays:"
   ]
  },
  {
   "cell_type": "code",
   "execution_count": 22,
   "metadata": {},
   "outputs": [
    {
     "name": "stdout",
     "output_type": "stream",
     "text": "x: \n[[1. 0. 0. 0.]\n [0. 1. 0. 0.]\n [0. 0. 1. 0.]\n [0. 0. 0. 1.]]\n"
    }
   ],
   "source": [
    "# Example_20\n",
    "# np.identity():\n",
    "\n",
    "x = np.identity(4)\n",
    "print(f\"x: \\n{x}\")"
   ]
  },
  {
   "cell_type": "code",
   "execution_count": 23,
   "metadata": {},
   "outputs": [
    {
     "name": "stdout",
     "output_type": "stream",
     "text": "x1: \n[[1. 0. 0.]\n [0. 1. 0.]\n [0. 0. 1.]]\n\nx2: \n[[0. 1. 0.]\n [0. 0. 1.]\n [0. 0. 0.]]\n\nx3: \n[[0. 0. 0.]\n [1. 0. 0.]\n [0. 1. 0.]]\n"
    }
   ],
   "source": [
    "# Example_21\n",
    "# np.eye()\n",
    "\n",
    "x1 = np.eye(3)\n",
    "print(f\"x1: \\n{x1}\\n\")\n",
    "\n",
    "x2 = np.eye(3, k=1)\n",
    "print(f\"x2: \\n{x2}\\n\")\n",
    "\n",
    "x3 = np.eye(3, k=-1)\n",
    "print(f\"x3: \\n{x3}\")"
   ]
  },
  {
   "cell_type": "markdown",
   "metadata": {
    "pycharm": {
     "name": "#%% md\n"
    }
   },
   "source": [
    "To construct a matrix with an arbitrary one-dimensional array on the diagonal, we\n",
    "can use the np.diag function (which also takes the optional keyword argument k to\n",
    "specify an offset from the diagonal)"
   ]
  },
  {
   "cell_type": "code",
   "execution_count": 24,
   "metadata": {},
   "outputs": [
    {
     "name": "stdout",
     "output_type": "stream",
     "text": "x: \n[[ 0  0  0  0]\n [ 0  5  0  0]\n [ 0  0 10  0]\n [ 0  0  0 15]]\n"
    }
   ],
   "source": [
    "# Example_22\n",
    "x = np.diag(np.arange(0, 20, 5))\n",
    "print(f\"x: \\n{x}\")"
   ]
  },
  {
   "cell_type": "markdown",
   "metadata": {
    "pycharm": {
     "name": "#%% md\n"
    }
   },
   "source": [
    "### Indexing and Slicing\n",
    "#### One-Dimensional Arrays:\n",
    "\n",
    "a[m] --> Select element at index m, where m is an integer (start counting form 0).\n",
    "\n",
    "a[-m] --> Select the n th element from the end of the list, where n is an integer.\n",
    "\n",
    "a[m:n] --> Select elements with index starting at m and ending at n − 1 (m and n are integers).\n",
    "\n",
    "a[:] or a[0:-1] --> Select all elements in the given axis.\n",
    "\n",
    "a[:n] --> Select elements starting with index 0 and going up to index n − 1 (integer).\n",
    "\n",
    "a[m:] or a[m:-1] --> Select elements starting with index m (integer) and going up to the last element in the array.\n",
    "\n",
    "a[m:n:p] --> Select elements with index m through n (exclusive), with increment p.\n",
    "\n",
    "a[::-1] --> Select all the elements, in reverse order."
   ]
  },
  {
   "cell_type": "code",
   "execution_count": 25,
   "metadata": {},
   "outputs": [
    {
     "name": "stdout",
     "output_type": "stream",
     "text": "a: [ 0  1  2  3  4  5  6  7  8  9 10]\n\na[0] --> the first element --> 0\n\na[-1] --> the last element --> 10\n\na[4] --> the fifth element, at index 4 --> 4\n\na[1:-1] --> from the second to the second-to-last element --> [1 2 3 4 5 6 7 8 9]\n\na[a1:-1:2] --> selecting every element and every second element --> [1 3 5 7 9]\n\na[:5] --> select the first five elements --> [0 1 2 3 4]\n\na[-5:] --> Select the last five elements --> [ 6  7  8  9 10]\n\na[::-2] --> Reverse the array and select only every second value --> [10  8  6  4  2  0]\n"
    }
   ],
   "source": [
    "# Example_23\n",
    "\n",
    "a = np.arange(0, 11)\n",
    "print(f\"a: {a}\\n\")\n",
    "\n",
    "print(f\"a[0] --> the first element --> {a[0]}\\n\")\n",
    "print(f\"a[-1] --> the last element --> {a[-1]}\\n\")\n",
    "print(f\"a[4] --> the fifth element, at index 4 --> {a[4]}\\n\")\n",
    "print(f\"a[1:-1] --> from the second to the second-to-last element --> {a[1:-1]}\\n\")\n",
    "print(f\"a[a1:-1:2] --> selecting every element and every second element --> {a[1:-1:2]}\\n\")\n",
    "print(f\"a[:5] --> select the first five elements --> {a[:5]}\\n\")\n",
    "print(f\"a[-5:] --> Select the last five elements --> {a[-5:]}\\n\")\n",
    "print(f\"a[::-2] --> Reverse the array and select only every second value --> {a[::-2]}\")"
   ]
  },
  {
   "cell_type": "markdown",
   "metadata": {},
   "source": [
    "#### Multidimensional Arrays:"
   ]
  },
  {
   "cell_type": "code",
   "execution_count": 26,
   "metadata": {},
   "outputs": [
    {
     "name": "stdout",
     "output_type": "stream",
     "text": "A: \n[[ 0  1  2  3  4  5]\n [10 11 12 13 14 15]\n [20 21 22 23 24 25]\n [30 31 32 33 34 35]\n [40 41 42 43 44 45]\n [50 51 52 53 54 55]]\n\nA[:, 1] --> Select the second column --> [ 1 11 21 31 41 51]\nA[1, :] --> Select the second row --> [10 11 12 13 14 15]\n"
    }
   ],
   "source": [
    "# Example_24\n",
    "\n",
    "f = lambda m, n: n + 10*m\n",
    "A = np.fromfunction(f, (6,6), dtype=int)\n",
    "print(f\"A: \\n{A}\\n\")\n",
    "\n",
    "print(f\"A[:, 1] --> Select the second column --> {A[:, 1]}\")\n",
    "print(f\"A[1, :] --> Select the second row --> {A[1, :]}\")"
   ]
  },
  {
   "cell_type": "markdown",
   "metadata": {},
   "source": [
    "By applying a slice on each of the array axes, we can extract subarrays (submatrices\n",
    "in this two-dimensional example):"
   ]
  },
  {
   "cell_type": "code",
   "execution_count": 27,
   "metadata": {},
   "outputs": [
    {
     "name": "stdout",
     "output_type": "stream",
     "text": "A[:3, :3] --> nupper half diagonal block matrix --> \n[[ 0  1  2]\n [10 11 12]\n [20 21 22]]\n\nA[3:, :3] --> lower left off-diagonal block matrix --> \n[[30 31 32]\n [40 41 42]\n [50 51 52]]\n\n"
    }
   ],
   "source": [
    "# Example_25\n",
    "\n",
    "print(f\"A[:3, :3] --> nupper half diagonal block matrix --> \\n{A[:3, :3]}\\n\")\n",
    "print(f\"A[3:, :3] --> lower left off-diagonal block matrix --> \\n{A[3:, :3]}\\n\")\n"
   ]
  },
  {
   "cell_type": "markdown",
   "metadata": {},
   "source": [
    "With element spacing other that 1, submatrices made up from nonconsecutive\n",
    "elements can be extracted:"
   ]
  },
  {
   "cell_type": "code",
   "execution_count": 28,
   "metadata": {},
   "outputs": [
    {
     "name": "stdout",
     "output_type": "stream",
     "text": "A[::2, ::2] --> every second element starting from 0, 0 --> \n[[ 0  2  4]\n [20 22 24]\n [40 42 44]]\n\nA[1::2, 1::3] --> every second and third elementstarting from 1, 1 --> \n[[11 14]\n [31 34]\n [51 54]]\n"
    }
   ],
   "source": [
    "# Example_26\n",
    "\n",
    "print(f\"A[::2, ::2] --> every second element starting from 0, 0 --> \\n{A[::2, ::2]}\\n\")\n",
    "print(f\"A[1::2, 1::3] --> every second and third elementstarting from 1, 1 --> \\n{A[1::2, 1::3]}\")"
   ]
  },
  {
   "cell_type": "markdown",
   "execution_count": null,
   "metadata": {},
   "outputs": [],
   "source": [
    "### Views:\n",
    "#### When elements in a view are assigned new values, the values of the original array are therefore also updated:"
   ]
  },
  {
   "cell_type": "code",
   "execution_count": 29,
   "metadata": {},
   "outputs": [
    {
     "name": "stdout",
     "output_type": "stream",
     "text": "B: \n[[11 12 13 14]\n [21 22 23 24]\n [31 32 33 34]\n [41 42 43 44]]\n\nA: \n[[ 0  1  2  3  4  5]\n [10  0  0  0  0 15]\n [20  0  0  0  0 25]\n [30  0  0  0  0 35]\n [40  0  0  0  0 45]\n [50 51 52 53 54 55]]\n"
    }
   ],
   "source": [
    "# Example_27\n",
    "\n",
    "B = A[1:5, 1:5]\n",
    "print(f\"B: \\n{B}\\n\")\n",
    "\n",
    "B[:, :] = 0\n",
    "print(f\"A: \\n{A}\")\n"
   ]
  },
  {
   "cell_type": "code",
   "execution_count": 30,
   "metadata": {},
   "outputs": [
    {
     "name": "stdout",
     "output_type": "stream",
     "text": "C: \n[[0 0]\n [0 0]]\n\nC: \n[[1 1]\n [1 1]]\n\nB: \n[[0 0 0 0]\n [0 0 0 0]\n [0 0 0 0]\n [0 0 0 0]]\n"
    }
   ],
   "source": [
    "# Example_28\n",
    "\n",
    "C = B[1:3, 1:3].copy()\n",
    "print(f\"C: \\n{C}\\n\")\n",
    "\n",
    "C[:, :] = 1     # this does not affect B\n",
    "print(f\"C: \\n{C}\\n\")\n",
    "print(f\"B: \\n{B}\")\n"
   ]
  },
  {
   "cell_type": "markdown",
   "execution_count": null,
   "metadata": {},
   "outputs": [],
   "source": [
    "### fancy Indexing and Boolean-Valued Indexing"
   ]
  },
  {
   "cell_type": "code",
   "execution_count": 31,
   "metadata": {},
   "outputs": [
    {
     "name": "stdout",
     "output_type": "stream",
     "text": "A: [0.  0.1 0.2 0.3 0.4 0.5 0.6 0.7 0.8 0.9 1. ]\n\nA[0, 2, 4]: [0.  0.2 0.4]\n\nA[[0, 2, 4]]: [0.  0.2 0.4]\n"
    }
   ],
   "source": [
    "# Example_29\n",
    "\n",
    "A = np.linspace(0, 1, 11)\n",
    "print(f\"A: {A}\\n\")\n",
    "\n",
    "print(f\"A[0, 2, 4]: {A[np.array([0, 2, 4])]}\\n\")\n",
    "\n",
    "# The same thing can be accomplished by indexing with a python list\n",
    "print(f\"A[[0, 2, 4]]: {A[[0, 2, 4]]}\")"
   ]
  },
  {
   "cell_type": "code",
   "execution_count": 32,
   "metadata": {},
   "outputs": [
    {
     "name": "stdout",
     "output_type": "stream",
     "text": "A > 0.5 : [False False False False False False  True  True  True  True  True]\n\nA[A > 0.5]: [0.6 0.7 0.8 0.9 1. ]\n"
    }
   ],
   "source": [
    "# Example_30\n",
    "\n",
    "# select all the elements from the array A that exceed the value 0.5:\n",
    "print(f\"A > 0.5 : {A > 0.5}\\n\")\n",
    "print(f\"A[A > 0.5]: {A[A > 0.5]}\")"
   ]
  },
  {
   "cell_type": "code",
   "execution_count": 33,
   "metadata": {},
   "outputs": [
    {
     "name": "stdout",
     "output_type": "stream",
     "text": "A: [0 1 2 3 4 5 6 7 8 9]\n\nA: [ 0  1 -1  3 -1  5 -1  7  8  9]\n"
    }
   ],
   "source": [
    "# Example_31\n",
    "\n",
    "A = np.arange(10)\n",
    "indices = [2, 4, 6]\n",
    "B = A[indices]\n",
    "B[0] = -1   # this does not affect A\n",
    "print(f\"A: {A}\\n\")\n",
    "A[indices] = -1     # this alters A\n",
    "print(f\"A: {A}\")\n"
   ]
  },
  {
   "cell_type": "code",
   "execution_count": 34,
   "metadata": {},
   "outputs": [
    {
     "name": "stdout",
     "output_type": "stream",
     "text": "A: [0 1 2 3 4 5 6 7 8 9]\n\nA: [ 0  1  2  3  4  5 -1 -1 -1 -1]\n"
    }
   ],
   "source": [
    "# Example_32\n",
    "\n",
    "A = np.arange(10)\n",
    "B = A[A > 5]\n",
    "B[0] = -1       # this does not affect A\n",
    "print(f\"A: {A}\\n\")\n",
    "\n",
    "A[A > 5] = -1       # this alters A\n",
    "print(f\"A: {A}\")\n"
   ]
  },
  {
   "cell_type": "markdown",
   "metadata": {},
   "source": [
    "### Reshaping and Resizing:"
   ]
  },
  {
   "cell_type": "code",
   "execution_count": 35,
   "metadata": {},
   "outputs": [
    {
     "name": "stdout",
     "output_type": "stream",
     "text": "data: \n[[1 2]\n [3 4]]\n\nx: [[1 2 3 4]]\n\ny: [1 2 3 4]\n"
    }
   ],
   "source": [
    "# example_33\n",
    "\n",
    "data = np.array([\n",
    "    [1, 2],\n",
    "    [3, 4]\n",
    "])\n",
    "print(f\"data: \\n{data}\\n\")\n",
    "\n",
    "x = np.reshape(data, (1, 4))\n",
    "print(f\"x: {x}\\n\")\n",
    "\n",
    "y = data.reshape(4)\n",
    "print(f\"y: {y}\")"
   ]
  },
  {
   "cell_type": "code",
   "execution_count": 36,
   "metadata": {},
   "outputs": [
    {
     "name": "stdout",
     "output_type": "stream",
     "text": "data: \n[[1 2]\n [3 4]]\n\nx: [1 2 3 4]\n\ndata.flatten().shape: (4,)\n"
    }
   ],
   "source": [
    "# Example_34\n",
    "\n",
    "data = np.array([\n",
    "    [1, 2],\n",
    "    [3, 4]\n",
    "])\n",
    "print(f\"data: \\n{data}\\n\")\n",
    "\n",
    "x = data.flatten()\n",
    "print(f\"x: {x}\\n\")\n",
    "print(f\"data.flatten().shape: {data.flatten().shape}\")"
   ]
  },
  {
   "cell_type": "code",
   "execution_count": 37,
   "metadata": {},
   "outputs": [
    {
     "name": "stdout",
     "output_type": "stream",
     "text": "data: [0 1 2 3 4]\n\ncolumn: \n[[0]\n [1]\n [2]\n [3]\n [4]]\n\nrow: [[0 1 2 3 4]]\n"
    }
   ],
   "source": [
    "# Example_35\n",
    "\n",
    "data = np.arange(0, 5)\n",
    "print(f\"data: {data}\\n\")\n",
    "\n",
    "column = data[:, np.newaxis]\n",
    "print(f\"column: \\n{column}\\n\")\n",
    "\n",
    "row = data[np.newaxis, :]\n",
    "print(f\"row: {row}\")"
   ]
  },
  {
   "cell_type": "code",
   "execution_count": 38,
   "metadata": {},
   "outputs": [
    {
     "name": "stdout",
     "output_type": "stream",
     "text": "data: [0 1 2 3 4]\n\nv_stack: \n[[0 1 2 3 4]\n [0 1 2 3 4]\n [0 1 2 3 4]]\n\n"
    }
   ],
   "source": [
    "# Example_36\n",
    "\n",
    "data = np.arange(5)\n",
    "print(f\"data: {data}\\n\")\n",
    "\n",
    "v_stack = np.vstack((data, data, data))\n",
    "print(f\"v_stack: \\n{v_stack}\\n\")"
   ]
  },
  {
   "cell_type": "code",
   "execution_count": 39,
   "metadata": {},
   "outputs": [
    {
     "name": "stdout",
     "output_type": "stream",
     "text": "data: [0 1 2 3 4]\n\nh_stack: [0 1 2 3 4 0 1 2 3 4 0 1 2 3 4]\n"
    }
   ],
   "source": [
    "# Example_37\n",
    "\n",
    "data = np.arange(5)\n",
    "print(f\"data: {data}\\n\")\n",
    "\n",
    "h_stack = np.hstack((data, data, data))\n",
    "print(f\"h_stack: {h_stack}\")"
   ]
  },
  {
   "cell_type": "code",
   "execution_count": 40,
   "metadata": {},
   "outputs": [
    {
     "data": {
      "text/plain": "array([[0, 0, 0],\n       [1, 1, 1],\n       [2, 2, 2],\n       [3, 3, 3],\n       [4, 4, 4]])"
     },
     "execution_count": 40,
     "metadata": {},
     "output_type": "execute_result"
    }
   ],
   "source": [
    "# Example_38\n",
    "\n",
    "data = data[:, np.newaxis]\n",
    "np.hstack((data, data, data))"
   ]
  },
  {
   "cell_type": "markdown",
   "metadata": {
    "collapsed": false,
    "pycharm": {
     "name": "#%% md\n"
    }
   },
   "source": [
    "### Vectorized Expressions:\n",
    "#### ArithmeticOperations:"
   ]
  },
  {
   "cell_type": "code",
   "execution_count": 42,
   "metadata": {},
   "outputs": [
    {
     "name": "stdout",
     "output_type": "stream",
     "text": "z: \n[[ 6  8]\n [10 12]]\n\n"
    }
   ],
   "source": [
    "# Example_39\n",
    "\n",
    "x = np.array([\n",
    "    [1, 2],\n",
    "    [3, 4]\n",
    "])\n",
    "\n",
    "y = np.array([\n",
    "    [5, 6],\n",
    "    [7, 8]\n",
    "])\n",
    "\n",
    "z = x + y\n",
    "print(f\"z: \\n{z}\\n\")"
   ]
  },
  {
   "cell_type": "code",
   "execution_count": 41,
   "metadata": {},
   "outputs": [
    {
     "name": "stdout",
     "output_type": "stream",
     "text": "z: \n[0 0 0 0]\n"
    }
   ],
   "source": [
    "# Example_40\n",
    "\n",
    "z = y - x\n",
    "print(f\"z: \\n{z}\")"
   ]
  },
  {
   "cell_type": "code",
   "execution_count": 43,
   "metadata": {},
   "outputs": [
    {
     "name": "stdout",
     "output_type": "stream",
     "text": "z: \n[[ 5 12]\n [21 32]]\n"
    }
   ],
   "source": [
    "# Example_41\n",
    "\n",
    "z = x * y\n",
    "print(f\"z: \\n{z}\")"
   ]
  },
  {
   "cell_type": "code",
   "execution_count": 44,
   "metadata": {},
   "outputs": [
    {
     "name": "stdout",
     "output_type": "stream",
     "text": "z: \n[[5.         3.        ]\n [2.33333333 2.        ]]\n"
    }
   ],
   "source": [
    "# example_42\n",
    "\n",
    "z = y / x\n",
    "print(f\"z: \\n{z}\")"
   ]
  },
  {
   "cell_type": "markdown",
   "metadata": {},
   "source": [
    "In operations between scalars and arrays, the scalar value is applied to each element\n",
    "in the array, as one could expect:"
   ]
  },
  {
   "cell_type": "code",
   "execution_count": null,
   "metadata": {},
   "outputs": [],
   "source": [
    "# Example_43\n",
    "res = x * 2\n",
    "print(f\"res : \\n{res}\")"
   ]
  },
  {
   "cell_type": "code",
   "execution_count": null,
   "metadata": {},
   "outputs": [],
   "source": []
  }
 ],
 "metadata": {
  "kernelspec": {
   "name": "pycharm-34aae690",
   "language": "python",
   "display_name": "PyCharm (numpy_and_algebra)"
  },
  "language_info": {
   "codemirror_mode": {
    "name": "ipython",
    "version": 3
   },
   "file_extension": ".py",
   "mimetype": "text/x-python",
   "name": "python",
   "nbconvert_exporter": "python",
   "pygments_lexer": "ipython3",
   "version": "3.8.1-final"
  },
  "pycharm": {
   "stem_cell": {
    "cell_type": "raw",
    "source": [],
    "metadata": {
     "collapsed": false
    }
   }
  }
 },
 "nbformat": 4,
 "nbformat_minor": 1
}